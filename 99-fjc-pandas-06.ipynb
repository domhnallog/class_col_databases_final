{
 "cells": [
  {
   "cell_type": "markdown",
   "metadata": {},
   "source": [
    "# Imports & File Load"
   ]
  },
  {
   "cell_type": "code",
   "execution_count": 1,
   "metadata": {},
   "outputs": [],
   "source": [
    "import pandas as pd\n",
    "import numpy as np\n",
    "import pandas_profiling\n",
    "import matplotlib\n",
    "import matplotlib.pyplot as plt\n",
    "import seaborn as sns\n",
    "matplotlib.rcParams['pdf.fonttype'] = 42\n",
    "# import requests\n",
    "# import json\n",
    "import re\n",
    "# import os\n",
    "# import time\n",
    "# from bs4 import BeautifulSoup\n",
    "from collections import Counter\n",
    "%matplotlib inline"
   ]
  },
  {
   "cell_type": "code",
   "execution_count": 2,
   "metadata": {},
   "outputs": [
    {
     "data": {
      "text/html": [
       "<div>\n",
       "<style scoped>\n",
       "    .dataframe tbody tr th:only-of-type {\n",
       "        vertical-align: middle;\n",
       "    }\n",
       "\n",
       "    .dataframe tbody tr th {\n",
       "        vertical-align: top;\n",
       "    }\n",
       "\n",
       "    .dataframe thead th {\n",
       "        text-align: right;\n",
       "    }\n",
       "</style>\n",
       "<table border=\"1\" class=\"dataframe\">\n",
       "  <thead>\n",
       "    <tr style=\"text-align: right;\">\n",
       "      <th></th>\n",
       "      <th>nid</th>\n",
       "      <th>jid</th>\n",
       "      <th>Last Name</th>\n",
       "      <th>First Name</th>\n",
       "      <th>Middle Name</th>\n",
       "      <th>Suffix</th>\n",
       "      <th>Birth Month</th>\n",
       "      <th>Birth Day</th>\n",
       "      <th>Birth Year</th>\n",
       "      <th>Birth City</th>\n",
       "      <th>...</th>\n",
       "      <th>Degree (3)</th>\n",
       "      <th>Degree Year (3)</th>\n",
       "      <th>School (4)</th>\n",
       "      <th>Degree (4)</th>\n",
       "      <th>Degree Year (4)</th>\n",
       "      <th>School (5)</th>\n",
       "      <th>Degree (5)</th>\n",
       "      <th>Degree Year (5)</th>\n",
       "      <th>Professional Career</th>\n",
       "      <th>Other Nominations/Recess Appointments</th>\n",
       "    </tr>\n",
       "  </thead>\n",
       "  <tbody>\n",
       "    <tr>\n",
       "      <th>0</th>\n",
       "      <td>1393211</td>\n",
       "      <td>3275</td>\n",
       "      <td>Peelle</td>\n",
       "      <td>Stanton</td>\n",
       "      <td>Judkins</td>\n",
       "      <td></td>\n",
       "      <td>2.0</td>\n",
       "      <td>11.0</td>\n",
       "      <td>1843</td>\n",
       "      <td>Richmond</td>\n",
       "      <td>...</td>\n",
       "      <td>NaN</td>\n",
       "      <td>1866</td>\n",
       "      <td>NaN</td>\n",
       "      <td>NaN</td>\n",
       "      <td>NaN</td>\n",
       "      <td>NaN</td>\n",
       "      <td>NaN</td>\n",
       "      <td>NaN</td>\n",
       "      <td>U.S. Army corporal and second lieutenant, 1861...</td>\n",
       "      <td>NaN</td>\n",
       "    </tr>\n",
       "    <tr>\n",
       "      <th>1</th>\n",
       "      <td>1393011</td>\n",
       "      <td>3235</td>\n",
       "      <td>Barney</td>\n",
       "      <td>Samuel</td>\n",
       "      <td>Stebbins</td>\n",
       "      <td></td>\n",
       "      <td>1.0</td>\n",
       "      <td>31.0</td>\n",
       "      <td>1846</td>\n",
       "      <td>Hartford</td>\n",
       "      <td>...</td>\n",
       "      <td>NaN</td>\n",
       "      <td>NaN</td>\n",
       "      <td>NaN</td>\n",
       "      <td>NaN</td>\n",
       "      <td>NaN</td>\n",
       "      <td>NaN</td>\n",
       "      <td>NaN</td>\n",
       "      <td>NaN</td>\n",
       "      <td>High school teacher, Hartford, Wisconsin, 1869...</td>\n",
       "      <td>NaN</td>\n",
       "    </tr>\n",
       "    <tr>\n",
       "      <th>2</th>\n",
       "      <td>1393056</td>\n",
       "      <td>3244</td>\n",
       "      <td>Atkinson</td>\n",
       "      <td>George</td>\n",
       "      <td>Wesley</td>\n",
       "      <td></td>\n",
       "      <td>6.0</td>\n",
       "      <td>29.0</td>\n",
       "      <td>1845</td>\n",
       "      <td>Charleston</td>\n",
       "      <td>...</td>\n",
       "      <td>LL.B.</td>\n",
       "      <td>1874</td>\n",
       "      <td>NaN</td>\n",
       "      <td>NaN</td>\n",
       "      <td>NaN</td>\n",
       "      <td>NaN</td>\n",
       "      <td>NaN</td>\n",
       "      <td>NaN</td>\n",
       "      <td>Assistant superintendent of public schools, Ka...</td>\n",
       "      <td>NaN</td>\n",
       "    </tr>\n",
       "  </tbody>\n",
       "</table>\n",
       "<p>3 rows × 201 columns</p>\n",
       "</div>"
      ],
      "text/plain": [
       "       nid   jid Last Name First Name Middle Name Suffix  Birth Month  \\\n",
       "0  1393211  3275    Peelle    Stanton     Judkins                 2.0   \n",
       "1  1393011  3235    Barney     Samuel    Stebbins                 1.0   \n",
       "2  1393056  3244  Atkinson     George      Wesley                 6.0   \n",
       "\n",
       "   Birth Day Birth Year  Birth City  ... Degree (3)  Degree Year (3)  \\\n",
       "0       11.0       1843    Richmond  ...        NaN             1866   \n",
       "1       31.0       1846    Hartford  ...        NaN              NaN   \n",
       "2       29.0       1845  Charleston  ...      LL.B.             1874   \n",
       "\n",
       "   School (4)  Degree (4) Degree Year (4) School (5) Degree (5)  \\\n",
       "0         NaN         NaN             NaN        NaN        NaN   \n",
       "1         NaN         NaN             NaN        NaN        NaN   \n",
       "2         NaN         NaN             NaN        NaN        NaN   \n",
       "\n",
       "  Degree Year (5)                                Professional Career  \\\n",
       "0             NaN  U.S. Army corporal and second lieutenant, 1861...   \n",
       "1             NaN  High school teacher, Hartford, Wisconsin, 1869...   \n",
       "2             NaN  Assistant superintendent of public schools, Ka...   \n",
       "\n",
       "  Other Nominations/Recess Appointments  \n",
       "0                                   NaN  \n",
       "1                                   NaN  \n",
       "2                                   NaN  \n",
       "\n",
       "[3 rows x 201 columns]"
      ]
     },
     "execution_count": 2,
     "metadata": {},
     "output_type": "execute_result"
    }
   ],
   "source": [
    "df = pd.read_csv(\"sources/judges_careersCurrentFirst.csv\")\n",
    "df.head(3)"
   ]
  },
  {
   "cell_type": "markdown",
   "metadata": {},
   "source": [
    "# File Investigation"
   ]
  },
  {
   "cell_type": "code",
   "execution_count": 3,
   "metadata": {},
   "outputs": [
    {
     "name": "stdout",
     "output_type": "stream",
     "text": [
      "<class 'pandas.core.frame.DataFrame'>\n",
      "RangeIndex: 3694 entries, 0 to 3693\n",
      "Columns: 201 entries, nid to Other Nominations/Recess Appointments\n",
      "dtypes: float64(56), int64(2), object(143)\n",
      "memory usage: 3.6+ MB\n"
     ]
    }
   ],
   "source": [
    "df.info()"
   ]
  },
  {
   "cell_type": "code",
   "execution_count": 4,
   "metadata": {},
   "outputs": [
    {
     "data": {
      "text/plain": [
       "3827024"
      ]
     },
     "execution_count": 4,
     "metadata": {},
     "output_type": "execute_result"
    }
   ],
   "source": [
    "original_size = df.memory_usage().sum()\n",
    "original_size"
   ]
  },
  {
   "cell_type": "code",
   "execution_count": 5,
   "metadata": {},
   "outputs": [
    {
     "name": "stdout",
     "output_type": "stream",
     "text": [
      "<class 'pandas.core.frame.DataFrame'>\n",
      "RangeIndex: 3694 entries, 0 to 3693\n",
      "Data columns (total 201 columns):\n",
      "nid                                      int64\n",
      "jid                                      int64\n",
      "Last Name                                object\n",
      "First Name                               object\n",
      "Middle Name                              object\n",
      "Suffix                                   object\n",
      "Birth Month                              float64\n",
      "Birth Day                                float64\n",
      "Birth Year                               object\n",
      "Birth City                               object\n",
      "Birth State                              object\n",
      "Death Month                              float64\n",
      "Death Day                                float64\n",
      "Death Year                               float64\n",
      "Death City                               object\n",
      "Death State                              object\n",
      "Gender                                   object\n",
      "Race or Ethnicity                        object\n",
      "Court Type (1)                           object\n",
      "Court Name (1)                           object\n",
      "Appointment Title (1)                    object\n",
      "Appointing President (1)                 object\n",
      "Party of Appointing President (1)        object\n",
      "Reappointing President (1)               object\n",
      "Party of Reappointing President (1)      object\n",
      "ABA Rating (1)                           object\n",
      "Seat ID (1)                              object\n",
      "Statute Authorizing New Seat (1)         object\n",
      "Recess Appointment Date (1)              object\n",
      "Nomination Date (1)                      object\n",
      "Committee Referral Date (1)              object\n",
      "Hearing Date (1)                         object\n",
      "Judiciary Committee Action (1)           object\n",
      "Committee Action Date (1)                object\n",
      "Senate Vote Type (1)                     object\n",
      "Ayes/Nays (1)                            object\n",
      "Confirmation Date (1)                    object\n",
      "Commission Date (1)                      object\n",
      "Service as Chief Judge, Begin (1)        float64\n",
      "Service as Chief Judge, End (1)          float64\n",
      "2nd Service as Chief Judge, Begin (1)    float64\n",
      "2nd Service as Chief Judge, End (1)      float64\n",
      "Senior Status Date (1)                   object\n",
      "Termination (1)                          object\n",
      "Termination Date (1)                     object\n",
      "Court Type (2)                           object\n",
      "Court Name (2)                           object\n",
      "Appointment Title (2)                    object\n",
      "Appointing President (2)                 object\n",
      "Party of Appointing President (2)        object\n",
      "Reappointing President (2)               float64\n",
      "Party of Reappointing President (2)      float64\n",
      "ABA Rating (2)                           object\n",
      "Seat ID (2)                              object\n",
      "Statute Authorizing New Seat (2)         object\n",
      "Recess Appointment Date (2)              object\n",
      "Nomination Date (2)                      object\n",
      "Committee Referral Date (2)              object\n",
      "Hearing Date (2)                         object\n",
      "Judiciary Committee Action (2)           object\n",
      "Committee Action Date (2)                object\n",
      "Senate Vote Type (2)                     object\n",
      "Ayes/Nays (2)                            object\n",
      "Confirmation Date (2)                    object\n",
      "Commission Date (2)                      object\n",
      "Service as Chief Judge, Begin (2)        float64\n",
      "Service as Chief Judge, End (2)          float64\n",
      "2nd Service as Chief Judge, Begin (2)    float64\n",
      "2nd Service as Chief Judge, End (2)      float64\n",
      "Senior Status Date (2)                   object\n",
      "Termination (2)                          object\n",
      "Termination Date (2)                     object\n",
      "Court Type (3)                           object\n",
      "Court Name (3)                           object\n",
      "Appointment Title (3)                    object\n",
      "Appointing President (3)                 object\n",
      "Party of Appointing President (3)        object\n",
      "Reappointing President (3)               float64\n",
      "Party of Reappointing President (3)      float64\n",
      "ABA Rating (3)                           object\n",
      "Seat ID (3)                              object\n",
      "Statute Authorizing New Seat (3)         object\n",
      "Recess Appointment Date (3)              object\n",
      "Nomination Date (3)                      object\n",
      "Committee Referral Date (3)              object\n",
      "Hearing Date (3)                         object\n",
      "Judiciary Committee Action (3)           object\n",
      "Committee Action Date (3)                object\n",
      "Senate Vote Type (3)                     object\n",
      "Ayes/Nays (3)                            object\n",
      "Confirmation Date (3)                    object\n",
      "Commission Date (3)                      object\n",
      "Service as Chief Judge, Begin (3)        float64\n",
      "Service as Chief Judge, End (3)          float64\n",
      "2nd Service as Chief Judge, Begin (3)    float64\n",
      "2nd Service as Chief Judge, End (3)      float64\n",
      "Senior Status Date (3)                   object\n",
      "Termination (3)                          object\n",
      "Termination Date (3)                     object\n",
      "Court Type (4)                           object\n",
      "Court Name (4)                           object\n",
      "Appointment Title (4)                    object\n",
      "Appointing President (4)                 object\n",
      "Party of Appointing President (4)        object\n",
      "Reappointing President (4)               float64\n",
      "Party of Reappointing President (4)      float64\n",
      "ABA Rating (4)                           float64\n",
      "Seat ID (4)                              object\n",
      "Statute Authorizing New Seat (4)         object\n",
      "Recess Appointment Date (4)              object\n",
      "Nomination Date (4)                      object\n",
      "Committee Referral Date (4)              object\n",
      "Hearing Date (4)                         float64\n",
      "Judiciary Committee Action (4)           object\n",
      "Committee Action Date (4)                object\n",
      "Senate Vote Type (4)                     object\n",
      "Ayes/Nays (4)                            object\n",
      "Confirmation Date (4)                    object\n",
      "Commission Date (4)                      object\n",
      "Service as Chief Judge, Begin (4)        float64\n",
      "Service as Chief Judge, End (4)          float64\n",
      "2nd Service as Chief Judge, Begin (4)    float64\n",
      "2nd Service as Chief Judge, End (4)      float64\n",
      "Senior Status Date (4)                   float64\n",
      "Termination (4)                          object\n",
      "Termination Date (4)                     object\n",
      "Court Type (5)                           object\n",
      "Court Name (5)                           object\n",
      "Appointment Title (5)                    object\n",
      "Appointing President (5)                 object\n",
      "Party of Appointing President (5)        object\n",
      "Reappointing President (5)               float64\n",
      "Party of Reappointing President (5)      float64\n",
      "ABA Rating (5)                           float64\n",
      "Seat ID (5)                              object\n",
      "Statute Authorizing New Seat (5)         object\n",
      "Recess Appointment Date (5)              object\n",
      "Nomination Date (5)                      object\n",
      "Committee Referral Date (5)              object\n",
      "Hearing Date (5)                         object\n",
      "Judiciary Committee Action (5)           object\n",
      "Committee Action Date (5)                float64\n",
      "Senate Vote Type (5)                     float64\n",
      "Ayes/Nays (5)                            object\n",
      "Confirmation Date (5)                    float64\n",
      "Commission Date (5)                      float64\n",
      "Service as Chief Judge, Begin (5)        float64\n",
      "Service as Chief Judge, End (5)          float64\n",
      "2nd Service as Chief Judge, Begin (5)    float64\n",
      "2nd Service as Chief Judge, End (5)      float64\n",
      "Senior Status Date (5)                   float64\n",
      "Termination (5)                          object\n",
      "Termination Date (5)                     object\n",
      "Court Type (6)                           object\n",
      "Court Name (6)                           object\n",
      "Appointment Title (6)                    object\n",
      "Appointing President (6)                 object\n",
      "Party of Appointing President (6)        object\n",
      "Reappointing President (6)               float64\n",
      "Party of Reappointing President (6)      float64\n",
      "ABA Rating (6)                           float64\n",
      "Seat ID (6)                              object\n",
      "Statute Authorizing New Seat (6)         object\n",
      "Recess Appointment Date (6)              object\n",
      "Nomination Date (6)                      object\n",
      "Committee Referral Date (6)              object\n",
      "Hearing Date (6)                         object\n",
      "Judiciary Committee Action (6)           object\n",
      "Committee Action Date (6)                float64\n",
      "Senate Vote Type (6)                     float64\n",
      "Ayes/Nays (6)                            object\n",
      "Confirmation Date (6)                    float64\n",
      "Commission Date (6)                      float64\n",
      "Service as Chief Judge, Begin (6)        float64\n",
      "Service as Chief Judge, End (6)          float64\n",
      "2nd Service as Chief Judge, Begin (6)    float64\n",
      "2nd Service as Chief Judge, End (6)      float64\n",
      "Senior Status Date (6)                   float64\n",
      "Termination (6)                          object\n",
      "Termination Date (6)                     object\n",
      "Other Federal Judicial Service (1)       object\n",
      "Other Federal Judicial Service (2)       object\n",
      "Other Federal Judicial Service (3)       object\n",
      "Other Federal Judicial Service (4)       object\n",
      "School (1)                               object\n",
      "Degree (1)                               object\n",
      "Degree Year (1)                          object\n",
      "School (2)                               object\n",
      "Degree (2)                               object\n",
      "Degree Year (2)                          object\n",
      "School (3)                               object\n",
      "Degree (3)                               object\n",
      "Degree Year (3)                          object\n",
      "School (4)                               object\n",
      "Degree (4)                               object\n",
      "Degree Year (4)                          float64\n",
      "School (5)                               object\n",
      "Degree (5)                               object\n",
      "Degree Year (5)                          float64\n",
      "Professional Career                      object\n",
      "Other Nominations/Recess Appointments    object\n",
      "dtypes: float64(56), int64(2), object(143)\n",
      "memory usage: 3.6+ MB\n"
     ]
    }
   ],
   "source": [
    "# df.dtypes\n",
    "df.info(verbose=True)"
   ]
  },
  {
   "cell_type": "code",
   "execution_count": 6,
   "metadata": {},
   "outputs": [],
   "source": [
    "# df.profile_report()"
   ]
  },
  {
   "cell_type": "markdown",
   "metadata": {},
   "source": [
    "# Basic Clean\n",
    "- make easy column headers\n",
    "- remove the circa abbreviation everywhere \n",
    "- convert separated birth/death info to united field\n",
    "- convert all string dates into datetime\n",
    "- convert year-only dates into datetime\n",
    "- convert various strings to categories\n",
    "- make a seat id that's not tied to individuals"
   ]
  },
  {
   "cell_type": "code",
   "execution_count": 7,
   "metadata": {},
   "outputs": [],
   "source": [
    "df.columns = df.columns.str.replace(' ', '_')\n",
    "df.columns = df.columns.str.replace('/', '-')\n",
    "df.columns = df.columns.str.replace('\\(|\\)|,', '')\n",
    "df.replace('ca. ','',regex=True,inplace=True)"
   ]
  },
  {
   "cell_type": "code",
   "execution_count": 8,
   "metadata": {},
   "outputs": [],
   "source": [
    "df['Birth_Month'] = pd.to_numeric(df['Birth_Month'], errors='coerce').fillna(value=9).astype(int)\n",
    "df['Birth_Day'] = pd.to_numeric(df['Birth_Day'], errors='coerce').fillna(value=30).astype(int)\n",
    "df['Birth_Year'] = pd.to_numeric(df['Birth_Year'], errors='coerce').fillna(value=1677).astype(int)\n",
    "df['Birth_Date'] = df.Birth_Year.map(str).astype(str).str.zfill(4) + '-' + df.Birth_Month.map(str).astype(str).str.zfill(2) + '-' + df.Birth_Day.map(str).astype(str).str.zfill(2)\n",
    "df['Death_Month'] = pd.to_numeric(df['Death_Month'], errors='coerce').fillna(value=9).astype(int)\n",
    "df['Death_Day'] = pd.to_numeric(df['Death_Day'], errors='coerce').fillna(value=30).astype(int)\n",
    "df['Death_Year'] = pd.to_numeric(df['Death_Year'], errors='coerce').fillna(value=1677).astype(int)\n",
    "df['Death_Date'] = df.Death_Year.map(str).astype(str).str.zfill(4) + '-' + df.Death_Month.map(str).astype(str).str.zfill(2) + '-' + df.Death_Day.map(str).astype(str).str.zfill(2)"
   ]
  },
  {
   "cell_type": "code",
   "execution_count": 9,
   "metadata": {},
   "outputs": [
    {
     "data": {
      "text/plain": [
       "0    1928-09-04\n",
       "1    1919-12-31\n",
       "2    1925-04-04\n",
       "3    1930-03-28\n",
       "4    1920-06-27\n",
       "Name: Death_Date, dtype: object"
      ]
     },
     "execution_count": 9,
     "metadata": {},
     "output_type": "execute_result"
    }
   ],
   "source": [
    "df.Death_Date.head()"
   ]
  },
  {
   "cell_type": "code",
   "execution_count": 10,
   "metadata": {
    "scrolled": true
   },
   "outputs": [],
   "source": [
    "forceDT = [\n",
    "    'Birth_Date','Death_Date',\n",
    "    'Recess_Appointment_Date_1','Nomination_Date_1','Committee_Referral_Date_1','Hearing_Date_1','Committee_Action_Date_1','Confirmation_Date_1','Commission_Date_1','Service_as_Chief_Judge_Begin_1','Service_as_Chief_Judge_End_1','2nd_Service_as_Chief_Judge_Begin_1','2nd_Service_as_Chief_Judge_End_1','Senior_Status_Date_1','Termination_Date_1',\n",
    "    'Recess_Appointment_Date_2','Nomination_Date_2','Committee_Referral_Date_2','Hearing_Date_2','Committee_Action_Date_2','Confirmation_Date_2','Commission_Date_2','Service_as_Chief_Judge_Begin_2','Service_as_Chief_Judge_End_2','2nd_Service_as_Chief_Judge_Begin_2','2nd_Service_as_Chief_Judge_End_2','Senior_Status_Date_2','Termination_Date_2',\n",
    "    'Recess_Appointment_Date_3','Nomination_Date_3','Committee_Referral_Date_3','Hearing_Date_3','Committee_Action_Date_3','Confirmation_Date_3','Commission_Date_3','Service_as_Chief_Judge_Begin_3','Service_as_Chief_Judge_End_3','2nd_Service_as_Chief_Judge_Begin_3','2nd_Service_as_Chief_Judge_End_3','Senior_Status_Date_3','Termination_Date_3',\n",
    "    'Recess_Appointment_Date_4','Nomination_Date_4','Committee_Referral_Date_4','Hearing_Date_4','Committee_Action_Date_4','Confirmation_Date_4','Commission_Date_4','Service_as_Chief_Judge_Begin_4','Service_as_Chief_Judge_End_4','2nd_Service_as_Chief_Judge_Begin_4','2nd_Service_as_Chief_Judge_End_4','Senior_Status_Date_4','Termination_Date_4',\n",
    "    'Recess_Appointment_Date_5','Nomination_Date_5','Committee_Referral_Date_5','Hearing_Date_5','Committee_Action_Date_5','Confirmation_Date_5','Commission_Date_5','Service_as_Chief_Judge_Begin_5','Service_as_Chief_Judge_End_5','2nd_Service_as_Chief_Judge_Begin_5','2nd_Service_as_Chief_Judge_End_5','Senior_Status_Date_5','Termination_Date_5',\n",
    "    'Recess_Appointment_Date_6','Nomination_Date_6','Committee_Referral_Date_6','Hearing_Date_6','Committee_Action_Date_6','Confirmation_Date_6','Commission_Date_6','Service_as_Chief_Judge_Begin_6','Service_as_Chief_Judge_End_6','2nd_Service_as_Chief_Judge_Begin_6','2nd_Service_as_Chief_Judge_End_6','Senior_Status_Date_6','Termination_Date_6'\n",
    "]\n",
    "df[forceDT] = df[forceDT].apply(pd.to_datetime)"
   ]
  },
  {
   "cell_type": "code",
   "execution_count": 11,
   "metadata": {},
   "outputs": [],
   "source": [
    "df['Degree_Year_1'] = pd.to_datetime(df['Degree_Year_1'],format='%Y', errors='coerce')\n",
    "df['Degree_Year_2'] = pd.to_datetime(df['Degree_Year_2'],format='%Y', errors='coerce')\n",
    "df['Degree_Year_3'] = pd.to_datetime(df['Degree_Year_3'],format='%Y', errors='coerce')\n",
    "df['Degree_Year_4'] = pd.to_datetime(df['Degree_Year_4'],format='%Y', errors='coerce')\n",
    "df['Degree_Year_5'] = pd.to_datetime(df['Degree_Year_5'],format='%Y', errors='coerce')"
   ]
  },
  {
   "cell_type": "code",
   "execution_count": 24,
   "metadata": {},
   "outputs": [
    {
     "data": {
      "text/plain": [
       "0    Oliver Wendell Holmes\n",
       "1        William Rufus Day\n",
       "2      William Henry Moody\n",
       "Name: Full_Name, dtype: object"
      ]
     },
     "execution_count": 24,
     "metadata": {},
     "output_type": "execute_result"
    }
   ],
   "source": [
    "df['Full_Name'] = df.First_Name + ' ' + df.Middle_Name + ' ' + df.Last_Name\n",
    "df.Full_Name.replace(r'\\s{2,4}',' ',regex=True,inplace=True)\n",
    "df.Full_Name.head(3)"
   ]
  },
  {
   "cell_type": "code",
   "execution_count": 68,
   "metadata": {},
   "outputs": [
    {
     "data": {
      "text/plain": [
       "SC-04         19\n",
       "SC-01         18\n",
       "03-NJ-02      17\n",
       "03-PA-W-01    16\n",
       "01-RI-01      14\n",
       "SC-03         13\n",
       "SC-05         13\n",
       "02-VT-01      13\n",
       "01-ME-01      12\n",
       "09-CCA-03     12\n",
       "SC-02         12\n",
       "08-NE-01      12\n",
       "03-DE-01      12\n",
       "SC-07         12\n",
       "01-CCA-03     11\n",
       "SC-09         11\n",
       "05-TX-E-01    11\n",
       "03-CCA-02     11\n",
       "08-AR-W-02    11\n",
       "05-TX-W-01    11\n",
       "06-CCA-01     10\n",
       "01-NH-01      10\n",
       "03-PA-E-01    10\n",
       "02-CCA-03     10\n",
       "02-CT-01      10\n",
       "07-CCA-03     10\n",
       "09-MT-01      10\n",
       "11-AL-S-02     9\n",
       "04-MD-01       9\n",
       "07-IN-W-01     9\n",
       "              ..\n",
       "05-TX-W-11     1\n",
       "09-CA-S-26     1\n",
       "08-CCA-02      1\n",
       "07-IN-N-05     1\n",
       "09-CA-S-24     1\n",
       "04-VA-E-12     1\n",
       "01-MA-12       1\n",
       "03-PA-E-02     1\n",
       "11-AL-N-11     1\n",
       "09-CA-S-01     1\n",
       "10-FL-S-22     1\n",
       "04-SC-11       1\n",
       "04-SC-03       1\n",
       "10-FL-M-12     1\n",
       "03-PA-M-02     1\n",
       "01-MA-13       1\n",
       "09-AZ-06       1\n",
       "07-IN-E-05     1\n",
       "11-CCA-05      1\n",
       "09-CA-N-05     1\n",
       "10-FL-S-23     1\n",
       "11-CCA-08      1\n",
       "09-AZ-14       1\n",
       "05-TX-S-15     1\n",
       "01-PR-06       1\n",
       "05-CCA-09      1\n",
       "06-KY-E-06     1\n",
       "04-CCA-15      1\n",
       "09-CA-S-25     1\n",
       "01-CCA-05      1\n",
       "Name: Seat_Code_1, Length: 964, dtype: int64"
      ]
     },
     "execution_count": 68,
     "metadata": {},
     "output_type": "execute_result"
    }
   ],
   "source": [
    "#MAKE USEFUL SEAT INFO\n",
    "# df['Seat_Code_1'] = df.Seat_ID_1.str.slice(0,-2)\n",
    "# df.Seat_Code_1.replace(r'(.*)D(\\d\\d)',r'\\1-\\2',regex=True,inplace=True)\n",
    "# df.Seat_Code_1.replace(r'(CA)(\\d{1,2}|DC)(\\d\\d)',r'\\1\\2-\\3',regex=True,inplace=True)\n",
    "# df.Seat_Code_1.replace(r'(SC)T(\\d\\d)',r'\\1-\\2',regex=True,inplace=True)\n",
    "# df.Seat_Code_1.value_counts()\n",
    "\n",
    "# df.Seat_ID_1.str.extract(r'(.*)(\\d\\d)(\\d\\d)')\n",
    "# df['Seat_Code_1'] = df.Court_Abbrev_Website_1.str.replace(r' ',r'') + '-' + df.Seat_ID_1.str.extract(r'.*(\\d\\d)\\d\\d').dropna()\n",
    "\n",
    "df['Seat_ID_SeatNum_1'] = df.Seat_ID_1.str.extract(r'.*(\\d\\d)\\d\\d').dropna()\n",
    "df['Seat_ID_Code_1'] = df.Court_Abbrev_Website_1.str.replace(r' ',r'') + '-'\n",
    "df['Seat_Code_1'] = df.Seat_ID_Code_1 + df.Seat_ID_SeatNum_1\n",
    "df.Seat_Code_1.value_counts()\n",
    "\n",
    "\n",
    "\n",
    "\n",
    "\n",
    "\n",
    "\n",
    "\n",
    "\n",
    "# SeatNumbers = df.Seat_ID_1.str.extract(r'.*(\\d\\d)\\d\\d').dropna()\n",
    "# SeatCodes = df.Court_Abbrev_Website_1.str.replace(r' ',r'') + '-'\n",
    "# df['Seat_Code_1'] = df.SeatCodes + SeatNumbers\n",
    "# df.Seat_Code_1.value_counts()"
   ]
  },
  {
   "cell_type": "code",
   "execution_count": 13,
   "metadata": {},
   "outputs": [
    {
     "data": {
      "text/plain": [
       "118.14652847748015"
      ]
     },
     "execution_count": 13,
     "metadata": {},
     "output_type": "execute_result"
    }
   ],
   "source": [
    "df.memory_usage().sum() / original_size * 100"
   ]
  },
  {
   "cell_type": "code",
   "execution_count": 14,
   "metadata": {},
   "outputs": [
    {
     "data": {
      "text/plain": [
       "93.02408346537675"
      ]
     },
     "execution_count": 14,
     "metadata": {},
     "output_type": "execute_result"
    }
   ],
   "source": [
    "forceCat = [\n",
    "    'Gender','Race_or_Ethnicity','Birth_City','Birth_State','Death_City','Death_State',\n",
    "    'Court_Type_1','Court_Name_1','Appointment_Title_1','Appointing_President_1','Party_of_Appointing_President_1','Reappointing_President_1','Party_of_Reappointing_President_1','ABA_Rating_1','Judiciary_Committee_Action_1','Senate_Vote_Type_1','Termination_1',\n",
    "    'Court_Type_2','Court_Name_2','Appointment_Title_2','Appointing_President_2','Party_of_Appointing_President_2','Reappointing_President_2','Party_of_Reappointing_President_2','ABA_Rating_2','Judiciary_Committee_Action_2','Senate_Vote_Type_2','Termination_2',\n",
    "    'Court_Type_3','Court_Name_3','Appointment_Title_3','Appointing_President_3','Party_of_Appointing_President_3','Reappointing_President_3','Party_of_Reappointing_President_3','ABA_Rating_3','Judiciary_Committee_Action_3','Senate_Vote_Type_3','Termination_3',\n",
    "    'Court_Type_4','Court_Name_4','Appointment_Title_4','Appointing_President_4','Party_of_Appointing_President_4','Reappointing_President_4','Party_of_Reappointing_President_4','ABA_Rating_4','Judiciary_Committee_Action_4','Senate_Vote_Type_4','Termination_4',\n",
    "    'Court_Type_5','Court_Name_5','Appointment_Title_5','Appointing_President_5','Party_of_Appointing_President_5','Reappointing_President_5','Party_of_Reappointing_President_5','ABA_Rating_5','Judiciary_Committee_Action_5','Senate_Vote_Type_5','Termination_5',\n",
    "    'Court_Type_6','Court_Name_6','Appointment_Title_6','Appointing_President_6','Party_of_Appointing_President_6','Reappointing_President_6','Party_of_Reappointing_President_6','ABA_Rating_6','Judiciary_Committee_Action_6','Senate_Vote_Type_6','Termination_6',\n",
    "    'School_1','Degree_1','School_2','Degree_2','School_3','Degree_3','School_4','Degree_4','School_5','Degree_5'\n",
    "]\n",
    "df[forceCat] = df[forceCat].astype('category')\n",
    "df.memory_usage().sum() / original_size * 100"
   ]
  },
  {
   "cell_type": "code",
   "execution_count": null,
   "metadata": {},
   "outputs": [],
   "source": [
    "# df = df.drop(columns='url')"
   ]
  },
  {
   "cell_type": "code",
   "execution_count": 20,
   "metadata": {},
   "outputs": [
    {
     "name": "stdout",
     "output_type": "stream",
     "text": [
      "<class 'pandas.core.frame.DataFrame'>\n",
      "Int64Index: 3401 entries, 0 to 3400\n",
      "Data columns (total 210 columns):\n",
      "nid                                      int64\n",
      "jid                                      int64\n",
      "Last_Name                                object\n",
      "First_Name                               object\n",
      "Middle_Name                              object\n",
      "Suffix                                   object\n",
      "Birth_Month                              int32\n",
      "Birth_Day                                int32\n",
      "Birth_Year                               int32\n",
      "Birth_City                               category\n",
      "Birth_State                              category\n",
      "Death_Month                              int32\n",
      "Death_Day                                int32\n",
      "Death_Year                               int32\n",
      "Death_City                               category\n",
      "Death_State                              category\n",
      "Gender                                   category\n",
      "Race_or_Ethnicity                        category\n",
      "Court_Type_1                             category\n",
      "Court_Name_1                             object\n",
      "Appointment_Title_1                      category\n",
      "Appointing_President_1                   object\n",
      "Party_of_Appointing_President_1          category\n",
      "Reappointing_President_1                 category\n",
      "Party_of_Reappointing_President_1        category\n",
      "ABA_Rating_1                             category\n",
      "Seat_ID_1                                object\n",
      "Statute_Authorizing_New_Seat_1           object\n",
      "Recess_Appointment_Date_1                datetime64[ns]\n",
      "Nomination_Date_1                        datetime64[ns]\n",
      "Committee_Referral_Date_1                datetime64[ns]\n",
      "Hearing_Date_1                           datetime64[ns]\n",
      "Judiciary_Committee_Action_1             category\n",
      "Committee_Action_Date_1                  datetime64[ns]\n",
      "Senate_Vote_Type_1                       category\n",
      "Ayes-Nays_1                              object\n",
      "Confirmation_Date_1                      datetime64[ns]\n",
      "Commission_Date_1                        datetime64[ns]\n",
      "Service_as_Chief_Judge_Begin_1           datetime64[ns]\n",
      "Service_as_Chief_Judge_End_1             datetime64[ns]\n",
      "2nd_Service_as_Chief_Judge_Begin_1       datetime64[ns]\n",
      "2nd_Service_as_Chief_Judge_End_1         datetime64[ns]\n",
      "Senior_Status_Date_1                     datetime64[ns]\n",
      "Termination_1                            category\n",
      "Termination_Date_1                       datetime64[ns]\n",
      "Court_Type_2                             category\n",
      "Court_Name_2                             category\n",
      "Appointment_Title_2                      category\n",
      "Appointing_President_2                   category\n",
      "Party_of_Appointing_President_2          category\n",
      "Reappointing_President_2                 category\n",
      "Party_of_Reappointing_President_2        category\n",
      "ABA_Rating_2                             category\n",
      "Seat_ID_2                                object\n",
      "Statute_Authorizing_New_Seat_2           object\n",
      "Recess_Appointment_Date_2                datetime64[ns]\n",
      "Nomination_Date_2                        datetime64[ns]\n",
      "Committee_Referral_Date_2                datetime64[ns]\n",
      "Hearing_Date_2                           datetime64[ns]\n",
      "Judiciary_Committee_Action_2             category\n",
      "Committee_Action_Date_2                  datetime64[ns]\n",
      "Senate_Vote_Type_2                       category\n",
      "Ayes-Nays_2                              object\n",
      "Confirmation_Date_2                      datetime64[ns]\n",
      "Commission_Date_2                        datetime64[ns]\n",
      "Service_as_Chief_Judge_Begin_2           datetime64[ns]\n",
      "Service_as_Chief_Judge_End_2             datetime64[ns]\n",
      "2nd_Service_as_Chief_Judge_Begin_2       datetime64[ns]\n",
      "2nd_Service_as_Chief_Judge_End_2         datetime64[ns]\n",
      "Senior_Status_Date_2                     datetime64[ns]\n",
      "Termination_2                            category\n",
      "Termination_Date_2                       datetime64[ns]\n",
      "Court_Type_3                             category\n",
      "Court_Name_3                             category\n",
      "Appointment_Title_3                      category\n",
      "Appointing_President_3                   category\n",
      "Party_of_Appointing_President_3          category\n",
      "Reappointing_President_3                 category\n",
      "Party_of_Reappointing_President_3        category\n",
      "ABA_Rating_3                             category\n",
      "Seat_ID_3                                object\n",
      "Statute_Authorizing_New_Seat_3           object\n",
      "Recess_Appointment_Date_3                datetime64[ns]\n",
      "Nomination_Date_3                        datetime64[ns]\n",
      "Committee_Referral_Date_3                datetime64[ns]\n",
      "Hearing_Date_3                           datetime64[ns]\n",
      "Judiciary_Committee_Action_3             category\n",
      "Committee_Action_Date_3                  datetime64[ns]\n",
      "Senate_Vote_Type_3                       category\n",
      "Ayes-Nays_3                              object\n",
      "Confirmation_Date_3                      datetime64[ns]\n",
      "Commission_Date_3                        datetime64[ns]\n",
      "Service_as_Chief_Judge_Begin_3           datetime64[ns]\n",
      "Service_as_Chief_Judge_End_3             datetime64[ns]\n",
      "2nd_Service_as_Chief_Judge_Begin_3       datetime64[ns]\n",
      "2nd_Service_as_Chief_Judge_End_3         datetime64[ns]\n",
      "Senior_Status_Date_3                     datetime64[ns]\n",
      "Termination_3                            category\n",
      "Termination_Date_3                       datetime64[ns]\n",
      "Court_Type_4                             category\n",
      "Court_Name_4                             category\n",
      "Appointment_Title_4                      category\n",
      "Appointing_President_4                   category\n",
      "Party_of_Appointing_President_4          category\n",
      "Reappointing_President_4                 category\n",
      "Party_of_Reappointing_President_4        category\n",
      "ABA_Rating_4                             category\n",
      "Seat_ID_4                                object\n",
      "Statute_Authorizing_New_Seat_4           object\n",
      "Recess_Appointment_Date_4                datetime64[ns]\n",
      "Nomination_Date_4                        datetime64[ns]\n",
      "Committee_Referral_Date_4                datetime64[ns]\n",
      "Hearing_Date_4                           datetime64[ns]\n",
      "Judiciary_Committee_Action_4             category\n",
      "Committee_Action_Date_4                  datetime64[ns]\n",
      "Senate_Vote_Type_4                       category\n",
      "Ayes-Nays_4                              object\n",
      "Confirmation_Date_4                      datetime64[ns]\n",
      "Commission_Date_4                        datetime64[ns]\n",
      "Service_as_Chief_Judge_Begin_4           datetime64[ns]\n",
      "Service_as_Chief_Judge_End_4             datetime64[ns]\n",
      "2nd_Service_as_Chief_Judge_Begin_4       datetime64[ns]\n",
      "2nd_Service_as_Chief_Judge_End_4         datetime64[ns]\n",
      "Senior_Status_Date_4                     datetime64[ns]\n",
      "Termination_4                            category\n",
      "Termination_Date_4                       datetime64[ns]\n",
      "Court_Type_5                             category\n",
      "Court_Name_5                             category\n",
      "Appointment_Title_5                      category\n",
      "Appointing_President_5                   category\n",
      "Party_of_Appointing_President_5          category\n",
      "Reappointing_President_5                 category\n",
      "Party_of_Reappointing_President_5        category\n",
      "ABA_Rating_5                             category\n",
      "Seat_ID_5                                object\n",
      "Statute_Authorizing_New_Seat_5           object\n",
      "Recess_Appointment_Date_5                datetime64[ns]\n",
      "Nomination_Date_5                        datetime64[ns]\n",
      "Committee_Referral_Date_5                datetime64[ns]\n",
      "Hearing_Date_5                           datetime64[ns]\n",
      "Judiciary_Committee_Action_5             category\n",
      "Committee_Action_Date_5                  datetime64[ns]\n",
      "Senate_Vote_Type_5                       category\n",
      "Ayes-Nays_5                              object\n",
      "Confirmation_Date_5                      datetime64[ns]\n",
      "Commission_Date_5                        datetime64[ns]\n",
      "Service_as_Chief_Judge_Begin_5           datetime64[ns]\n",
      "Service_as_Chief_Judge_End_5             datetime64[ns]\n",
      "2nd_Service_as_Chief_Judge_Begin_5       datetime64[ns]\n",
      "2nd_Service_as_Chief_Judge_End_5         datetime64[ns]\n",
      "Senior_Status_Date_5                     datetime64[ns]\n",
      "Termination_5                            category\n",
      "Termination_Date_5                       datetime64[ns]\n",
      "Court_Type_6                             category\n",
      "Court_Name_6                             category\n",
      "Appointment_Title_6                      category\n",
      "Appointing_President_6                   category\n",
      "Party_of_Appointing_President_6          category\n",
      "Reappointing_President_6                 category\n",
      "Party_of_Reappointing_President_6        category\n",
      "ABA_Rating_6                             category\n",
      "Seat_ID_6                                object\n",
      "Statute_Authorizing_New_Seat_6           object\n",
      "Recess_Appointment_Date_6                datetime64[ns]\n",
      "Nomination_Date_6                        datetime64[ns]\n",
      "Committee_Referral_Date_6                datetime64[ns]\n",
      "Hearing_Date_6                           datetime64[ns]\n",
      "Judiciary_Committee_Action_6             category\n",
      "Committee_Action_Date_6                  datetime64[ns]\n",
      "Senate_Vote_Type_6                       category\n",
      "Ayes-Nays_6                              object\n",
      "Confirmation_Date_6                      datetime64[ns]\n",
      "Commission_Date_6                        datetime64[ns]\n",
      "Service_as_Chief_Judge_Begin_6           datetime64[ns]\n",
      "Service_as_Chief_Judge_End_6             datetime64[ns]\n",
      "2nd_Service_as_Chief_Judge_Begin_6       datetime64[ns]\n",
      "2nd_Service_as_Chief_Judge_End_6         datetime64[ns]\n",
      "Senior_Status_Date_6                     datetime64[ns]\n",
      "Termination_6                            category\n",
      "Termination_Date_6                       datetime64[ns]\n",
      "Other_Federal_Judicial_Service_1         object\n",
      "Other_Federal_Judicial_Service_2         object\n",
      "Other_Federal_Judicial_Service_3         object\n",
      "Other_Federal_Judicial_Service_4         object\n",
      "School_1                                 category\n",
      "Degree_1                                 category\n",
      "Degree_Year_1                            datetime64[ns]\n",
      "School_2                                 category\n",
      "Degree_2                                 category\n",
      "Degree_Year_2                            datetime64[ns]\n",
      "School_3                                 category\n",
      "Degree_3                                 category\n",
      "Degree_Year_3                            datetime64[ns]\n",
      "School_4                                 category\n",
      "Degree_4                                 category\n",
      "Degree_Year_4                            datetime64[ns]\n",
      "School_5                                 category\n",
      "Degree_5                                 category\n",
      "Degree_Year_5                            datetime64[ns]\n",
      "Professional_Career                      object\n",
      "Other_Nominations-Recess_Appointments    object\n",
      "Birth_Date                               datetime64[ns]\n",
      "Death_Date                               datetime64[ns]\n",
      "Full_Name                                object\n",
      "Appointing_President_Num_1               int64\n",
      "Appointing_President_State_1             category\n",
      "Court_Circuit_1                          category\n",
      "Court_Abbrev_Bluebook_1                  category\n",
      "Court_Abbrev_Website_1                   category\n",
      "Court_State_1                            category\n",
      "dtypes: category(85), datetime64[ns](85), int32(6), int64(3), object(31)\n",
      "memory usage: 3.2+ MB\n"
     ]
    }
   ],
   "source": [
    "df.info(verbose=True)"
   ]
  },
  {
   "cell_type": "markdown",
   "metadata": {},
   "source": [
    "# Join Key Tables"
   ]
  },
  {
   "cell_type": "code",
   "execution_count": 15,
   "metadata": {},
   "outputs": [
    {
     "data": {
      "text/html": [
       "<div>\n",
       "<style scoped>\n",
       "    .dataframe tbody tr th:only-of-type {\n",
       "        vertical-align: middle;\n",
       "    }\n",
       "\n",
       "    .dataframe tbody tr th {\n",
       "        vertical-align: top;\n",
       "    }\n",
       "\n",
       "    .dataframe thead th {\n",
       "        text-align: right;\n",
       "    }\n",
       "</style>\n",
       "<table border=\"1\" class=\"dataframe\">\n",
       "  <thead>\n",
       "    <tr style=\"text-align: right;\">\n",
       "      <th></th>\n",
       "      <th>nid</th>\n",
       "      <th>jid</th>\n",
       "      <th>Last_Name</th>\n",
       "      <th>First_Name</th>\n",
       "      <th>Middle_Name</th>\n",
       "      <th>Suffix</th>\n",
       "      <th>Birth_Month</th>\n",
       "      <th>Birth_Day</th>\n",
       "      <th>Birth_Year</th>\n",
       "      <th>Birth_City</th>\n",
       "      <th>...</th>\n",
       "      <th>School_5</th>\n",
       "      <th>Degree_5</th>\n",
       "      <th>Degree_Year_5</th>\n",
       "      <th>Professional_Career</th>\n",
       "      <th>Other_Nominations-Recess_Appointments</th>\n",
       "      <th>Birth_Date</th>\n",
       "      <th>Death_Date</th>\n",
       "      <th>Full_Name</th>\n",
       "      <th>Appointing_President_Num_1</th>\n",
       "      <th>Appointing_President_State_1</th>\n",
       "    </tr>\n",
       "  </thead>\n",
       "  <tbody>\n",
       "    <tr>\n",
       "      <th>0</th>\n",
       "      <td>1393211</td>\n",
       "      <td>3275</td>\n",
       "      <td>Peelle</td>\n",
       "      <td>Stanton</td>\n",
       "      <td>Judkins</td>\n",
       "      <td></td>\n",
       "      <td>2</td>\n",
       "      <td>11</td>\n",
       "      <td>1843</td>\n",
       "      <td>Richmond</td>\n",
       "      <td>...</td>\n",
       "      <td>NaN</td>\n",
       "      <td>NaN</td>\n",
       "      <td>NaT</td>\n",
       "      <td>U.S. Army corporal and second lieutenant, 1861...</td>\n",
       "      <td>NaN</td>\n",
       "      <td>1843-02-11</td>\n",
       "      <td>1928-09-04</td>\n",
       "      <td>Stanton Judkins Peelle</td>\n",
       "      <td>26</td>\n",
       "      <td>NY</td>\n",
       "    </tr>\n",
       "    <tr>\n",
       "      <th>1</th>\n",
       "      <td>1393011</td>\n",
       "      <td>3235</td>\n",
       "      <td>Barney</td>\n",
       "      <td>Samuel</td>\n",
       "      <td>Stebbins</td>\n",
       "      <td></td>\n",
       "      <td>1</td>\n",
       "      <td>31</td>\n",
       "      <td>1846</td>\n",
       "      <td>Hartford</td>\n",
       "      <td>...</td>\n",
       "      <td>NaN</td>\n",
       "      <td>NaN</td>\n",
       "      <td>NaT</td>\n",
       "      <td>High school teacher, Hartford, Wisconsin, 1869...</td>\n",
       "      <td>NaN</td>\n",
       "      <td>1846-01-31</td>\n",
       "      <td>1919-12-31</td>\n",
       "      <td>Samuel Stebbins Barney</td>\n",
       "      <td>26</td>\n",
       "      <td>NY</td>\n",
       "    </tr>\n",
       "    <tr>\n",
       "      <th>2</th>\n",
       "      <td>1393056</td>\n",
       "      <td>3244</td>\n",
       "      <td>Atkinson</td>\n",
       "      <td>George</td>\n",
       "      <td>Wesley</td>\n",
       "      <td></td>\n",
       "      <td>6</td>\n",
       "      <td>29</td>\n",
       "      <td>1845</td>\n",
       "      <td>Charleston</td>\n",
       "      <td>...</td>\n",
       "      <td>NaN</td>\n",
       "      <td>NaN</td>\n",
       "      <td>NaT</td>\n",
       "      <td>Assistant superintendent of public schools, Ka...</td>\n",
       "      <td>NaN</td>\n",
       "      <td>1845-06-29</td>\n",
       "      <td>1925-04-04</td>\n",
       "      <td>George Wesley Atkinson</td>\n",
       "      <td>26</td>\n",
       "      <td>NY</td>\n",
       "    </tr>\n",
       "    <tr>\n",
       "      <th>3</th>\n",
       "      <td>1382341</td>\n",
       "      <td>1082</td>\n",
       "      <td>Holmes</td>\n",
       "      <td>Oliver</td>\n",
       "      <td>Wendell</td>\n",
       "      <td>Jr.</td>\n",
       "      <td>3</td>\n",
       "      <td>8</td>\n",
       "      <td>1841</td>\n",
       "      <td>Boston</td>\n",
       "      <td>...</td>\n",
       "      <td>NaN</td>\n",
       "      <td>NaN</td>\n",
       "      <td>NaT</td>\n",
       "      <td>U.S. Army lieutenant, 20th Massachusetts Volun...</td>\n",
       "      <td>President issued recess appointment to Supreme...</td>\n",
       "      <td>1841-03-08</td>\n",
       "      <td>1935-03-06</td>\n",
       "      <td>Oliver Wendell Holmes</td>\n",
       "      <td>26</td>\n",
       "      <td>NY</td>\n",
       "    </tr>\n",
       "    <tr>\n",
       "      <th>4</th>\n",
       "      <td>1379896</td>\n",
       "      <td>588</td>\n",
       "      <td>Day</td>\n",
       "      <td>William</td>\n",
       "      <td>Rufus</td>\n",
       "      <td></td>\n",
       "      <td>4</td>\n",
       "      <td>17</td>\n",
       "      <td>1849</td>\n",
       "      <td>Ravenna</td>\n",
       "      <td>...</td>\n",
       "      <td>NaN</td>\n",
       "      <td>NaN</td>\n",
       "      <td>NaT</td>\n",
       "      <td>Private practice, Canton, Ohio, 1872-1897, 189...</td>\n",
       "      <td>Received recess appointment to U.S. District C...</td>\n",
       "      <td>1849-04-17</td>\n",
       "      <td>1923-07-09</td>\n",
       "      <td>William Rufus Day</td>\n",
       "      <td>26</td>\n",
       "      <td>NY</td>\n",
       "    </tr>\n",
       "  </tbody>\n",
       "</table>\n",
       "<p>5 rows × 206 columns</p>\n",
       "</div>"
      ],
      "text/plain": [
       "       nid   jid Last_Name First_Name Middle_Name Suffix  Birth_Month  \\\n",
       "0  1393211  3275    Peelle    Stanton     Judkins                   2   \n",
       "1  1393011  3235    Barney     Samuel    Stebbins                   1   \n",
       "2  1393056  3244  Atkinson     George      Wesley                   6   \n",
       "3  1382341  1082    Holmes     Oliver     Wendell    Jr.            3   \n",
       "4  1379896   588       Day    William       Rufus                   4   \n",
       "\n",
       "   Birth_Day  Birth_Year  Birth_City  ... School_5  Degree_5  Degree_Year_5  \\\n",
       "0         11        1843    Richmond  ...      NaN       NaN            NaT   \n",
       "1         31        1846    Hartford  ...      NaN       NaN            NaT   \n",
       "2         29        1845  Charleston  ...      NaN       NaN            NaT   \n",
       "3          8        1841      Boston  ...      NaN       NaN            NaT   \n",
       "4         17        1849     Ravenna  ...      NaN       NaN            NaT   \n",
       "\n",
       "                                 Professional_Career  \\\n",
       "0  U.S. Army corporal and second lieutenant, 1861...   \n",
       "1  High school teacher, Hartford, Wisconsin, 1869...   \n",
       "2  Assistant superintendent of public schools, Ka...   \n",
       "3  U.S. Army lieutenant, 20th Massachusetts Volun...   \n",
       "4  Private practice, Canton, Ohio, 1872-1897, 189...   \n",
       "\n",
       "               Other_Nominations-Recess_Appointments Birth_Date Death_Date  \\\n",
       "0                                                NaN 1843-02-11 1928-09-04   \n",
       "1                                                NaN 1846-01-31 1919-12-31   \n",
       "2                                                NaN 1845-06-29 1925-04-04   \n",
       "3  President issued recess appointment to Supreme... 1841-03-08 1935-03-06   \n",
       "4  Received recess appointment to U.S. District C... 1849-04-17 1923-07-09   \n",
       "\n",
       "                Full_Name Appointing_President_Num_1  \\\n",
       "0  Stanton Judkins Peelle                         26   \n",
       "1  Samuel Stebbins Barney                         26   \n",
       "2  George Wesley Atkinson                         26   \n",
       "3   Oliver Wendell Holmes                         26   \n",
       "4       William Rufus Day                         26   \n",
       "\n",
       "  Appointing_President_State_1  \n",
       "0                           NY  \n",
       "1                           NY  \n",
       "2                           NY  \n",
       "3                           NY  \n",
       "4                           NY  \n",
       "\n",
       "[5 rows x 206 columns]"
      ]
     },
     "execution_count": 15,
     "metadata": {},
     "output_type": "execute_result"
    }
   ],
   "source": [
    "columns = ['Pres_Num','Pres_Name','Pres_State_Abbrev']\n",
    "pres_df = pd.read_csv(\"sources/key_presidents.csv\", usecols=columns)\n",
    "df = df.merge(pres_df, left_on='Appointing_President_1', right_on='Pres_Name')\n",
    "df = df.rename({'Pres_Num':'Appointing_President_Num_1', 'Pres_State_Abbrev':'Appointing_President_State_1'}, axis=1)\n",
    "del df['Pres_Name']\n",
    "df.head()"
   ]
  },
  {
   "cell_type": "code",
   "execution_count": 16,
   "metadata": {},
   "outputs": [
    {
     "data": {
      "text/html": [
       "<div>\n",
       "<style scoped>\n",
       "    .dataframe tbody tr th:only-of-type {\n",
       "        vertical-align: middle;\n",
       "    }\n",
       "\n",
       "    .dataframe tbody tr th {\n",
       "        vertical-align: top;\n",
       "    }\n",
       "\n",
       "    .dataframe thead th {\n",
       "        text-align: right;\n",
       "    }\n",
       "</style>\n",
       "<table border=\"1\" class=\"dataframe\">\n",
       "  <thead>\n",
       "    <tr style=\"text-align: right;\">\n",
       "      <th></th>\n",
       "      <th>nid</th>\n",
       "      <th>jid</th>\n",
       "      <th>Last_Name</th>\n",
       "      <th>First_Name</th>\n",
       "      <th>Middle_Name</th>\n",
       "      <th>Suffix</th>\n",
       "      <th>Birth_Month</th>\n",
       "      <th>Birth_Day</th>\n",
       "      <th>Birth_Year</th>\n",
       "      <th>Birth_City</th>\n",
       "      <th>...</th>\n",
       "      <th>Other_Nominations-Recess_Appointments</th>\n",
       "      <th>Birth_Date</th>\n",
       "      <th>Death_Date</th>\n",
       "      <th>Full_Name</th>\n",
       "      <th>Appointing_President_Num_1</th>\n",
       "      <th>Appointing_President_State_1</th>\n",
       "      <th>Court_Circuit_1</th>\n",
       "      <th>Court_Abbrev_Bluebook_1</th>\n",
       "      <th>Court_Abbrev_Website_1</th>\n",
       "      <th>Court_State_1</th>\n",
       "    </tr>\n",
       "  </thead>\n",
       "  <tbody>\n",
       "    <tr>\n",
       "      <th>0</th>\n",
       "      <td>1382341</td>\n",
       "      <td>1082</td>\n",
       "      <td>Holmes</td>\n",
       "      <td>Oliver</td>\n",
       "      <td>Wendell</td>\n",
       "      <td>Jr.</td>\n",
       "      <td>3</td>\n",
       "      <td>8</td>\n",
       "      <td>1841</td>\n",
       "      <td>Boston</td>\n",
       "      <td>...</td>\n",
       "      <td>President issued recess appointment to Supreme...</td>\n",
       "      <td>1841-03-08</td>\n",
       "      <td>1935-03-06</td>\n",
       "      <td>Oliver Wendell Holmes</td>\n",
       "      <td>26</td>\n",
       "      <td>NY</td>\n",
       "      <td>Fed</td>\n",
       "      <td>U.S.</td>\n",
       "      <td>SC</td>\n",
       "      <td>NaN</td>\n",
       "    </tr>\n",
       "    <tr>\n",
       "      <th>1</th>\n",
       "      <td>1379896</td>\n",
       "      <td>588</td>\n",
       "      <td>Day</td>\n",
       "      <td>William</td>\n",
       "      <td>Rufus</td>\n",
       "      <td></td>\n",
       "      <td>4</td>\n",
       "      <td>17</td>\n",
       "      <td>1849</td>\n",
       "      <td>Ravenna</td>\n",
       "      <td>...</td>\n",
       "      <td>Received recess appointment to U.S. District C...</td>\n",
       "      <td>1849-04-17</td>\n",
       "      <td>1923-07-09</td>\n",
       "      <td>William Rufus Day</td>\n",
       "      <td>26</td>\n",
       "      <td>NY</td>\n",
       "      <td>Fed</td>\n",
       "      <td>U.S.</td>\n",
       "      <td>SC</td>\n",
       "      <td>NaN</td>\n",
       "    </tr>\n",
       "    <tr>\n",
       "      <th>2</th>\n",
       "      <td>1385276</td>\n",
       "      <td>1672</td>\n",
       "      <td>Moody</td>\n",
       "      <td>William</td>\n",
       "      <td>Henry</td>\n",
       "      <td></td>\n",
       "      <td>12</td>\n",
       "      <td>23</td>\n",
       "      <td>1853</td>\n",
       "      <td>Newbury</td>\n",
       "      <td>...</td>\n",
       "      <td>NaN</td>\n",
       "      <td>1853-12-23</td>\n",
       "      <td>1917-07-02</td>\n",
       "      <td>William Henry Moody</td>\n",
       "      <td>26</td>\n",
       "      <td>NY</td>\n",
       "      <td>Fed</td>\n",
       "      <td>U.S.</td>\n",
       "      <td>SC</td>\n",
       "      <td>NaN</td>\n",
       "    </tr>\n",
       "    <tr>\n",
       "      <th>3</th>\n",
       "      <td>1384126</td>\n",
       "      <td>1441</td>\n",
       "      <td>Lurton</td>\n",
       "      <td>Horace</td>\n",
       "      <td>Harmon</td>\n",
       "      <td></td>\n",
       "      <td>2</td>\n",
       "      <td>26</td>\n",
       "      <td>1844</td>\n",
       "      <td>Newport</td>\n",
       "      <td>...</td>\n",
       "      <td>NaN</td>\n",
       "      <td>1844-02-26</td>\n",
       "      <td>1914-07-12</td>\n",
       "      <td>Horace Harmon Lurton</td>\n",
       "      <td>27</td>\n",
       "      <td>OH</td>\n",
       "      <td>Fed</td>\n",
       "      <td>U.S.</td>\n",
       "      <td>SC</td>\n",
       "      <td>NaN</td>\n",
       "    </tr>\n",
       "    <tr>\n",
       "      <th>4</th>\n",
       "      <td>1389696</td>\n",
       "      <td>2567</td>\n",
       "      <td>White</td>\n",
       "      <td>Edward</td>\n",
       "      <td>Douglass</td>\n",
       "      <td></td>\n",
       "      <td>11</td>\n",
       "      <td>3</td>\n",
       "      <td>1845</td>\n",
       "      <td>Lafourche Parish</td>\n",
       "      <td>...</td>\n",
       "      <td>NaN</td>\n",
       "      <td>1845-11-03</td>\n",
       "      <td>1921-05-19</td>\n",
       "      <td>Edward Douglass White</td>\n",
       "      <td>27</td>\n",
       "      <td>OH</td>\n",
       "      <td>Fed</td>\n",
       "      <td>U.S.</td>\n",
       "      <td>SC</td>\n",
       "      <td>NaN</td>\n",
       "    </tr>\n",
       "  </tbody>\n",
       "</table>\n",
       "<p>5 rows × 210 columns</p>\n",
       "</div>"
      ],
      "text/plain": [
       "       nid   jid Last_Name First_Name Middle_Name Suffix  Birth_Month  \\\n",
       "0  1382341  1082    Holmes     Oliver     Wendell    Jr.            3   \n",
       "1  1379896   588       Day    William       Rufus                   4   \n",
       "2  1385276  1672     Moody    William       Henry                  12   \n",
       "3  1384126  1441    Lurton     Horace      Harmon                   2   \n",
       "4  1389696  2567     White     Edward    Douglass                  11   \n",
       "\n",
       "   Birth_Day  Birth_Year        Birth_City  ...  \\\n",
       "0          8        1841            Boston  ...   \n",
       "1         17        1849           Ravenna  ...   \n",
       "2         23        1853           Newbury  ...   \n",
       "3         26        1844           Newport  ...   \n",
       "4          3        1845  Lafourche Parish  ...   \n",
       "\n",
       "               Other_Nominations-Recess_Appointments  Birth_Date  Death_Date  \\\n",
       "0  President issued recess appointment to Supreme...  1841-03-08  1935-03-06   \n",
       "1  Received recess appointment to U.S. District C...  1849-04-17  1923-07-09   \n",
       "2                                                NaN  1853-12-23  1917-07-02   \n",
       "3                                                NaN  1844-02-26  1914-07-12   \n",
       "4                                                NaN  1845-11-03  1921-05-19   \n",
       "\n",
       "               Full_Name Appointing_President_Num_1  \\\n",
       "0  Oliver Wendell Holmes                         26   \n",
       "1      William Rufus Day                         26   \n",
       "2    William Henry Moody                         26   \n",
       "3   Horace Harmon Lurton                         27   \n",
       "4  Edward Douglass White                         27   \n",
       "\n",
       "  Appointing_President_State_1 Court_Circuit_1 Court_Abbrev_Bluebook_1  \\\n",
       "0                           NY             Fed       U.S.                \n",
       "1                           NY             Fed       U.S.                \n",
       "2                           NY             Fed       U.S.                \n",
       "3                           OH             Fed       U.S.                \n",
       "4                           OH             Fed       U.S.                \n",
       "\n",
       "  Court_Abbrev_Website_1 Court_State_1  \n",
       "0                     SC           NaN  \n",
       "1                     SC           NaN  \n",
       "2                     SC           NaN  \n",
       "3                     SC           NaN  \n",
       "4                     SC           NaN  \n",
       "\n",
       "[5 rows x 210 columns]"
      ]
     },
     "execution_count": 16,
     "metadata": {},
     "output_type": "execute_result"
    }
   ],
   "source": [
    "columns = ['Court_Circuit','Court_Name_Long','Court_Abbrev_Bluebook','Court_Abbrev_Website','State_Abbrev']\n",
    "pres_df = pd.read_csv(\"sources/key_courts.csv\", usecols=columns)\n",
    "df = df.merge(pres_df, left_on='Court_Name_1', right_on='Court_Name_Long')\n",
    "df = df.rename({'Court_Circuit':'Court_Circuit_1','Court_Abbrev_Bluebook':'Court_Abbrev_Bluebook_1','Court_Abbrev_Website':'Court_Abbrev_Website_1','State_Abbrev':'Court_State_1'}, axis=1)\n",
    "del df['Court_Name_Long']\n",
    "df.head()"
   ]
  },
  {
   "cell_type": "code",
   "execution_count": 17,
   "metadata": {},
   "outputs": [
    {
     "data": {
      "text/plain": [
       "89.46476426591524"
      ]
     },
     "execution_count": 17,
     "metadata": {},
     "output_type": "execute_result"
    }
   ],
   "source": [
    "df.memory_usage().sum() / original_size * 100"
   ]
  },
  {
   "cell_type": "code",
   "execution_count": 18,
   "metadata": {},
   "outputs": [
    {
     "data": {
      "text/plain": [
       "88.3833234387869"
      ]
     },
     "execution_count": 18,
     "metadata": {},
     "output_type": "execute_result"
    }
   ],
   "source": [
    "df[['Appointing_President_State_1','Court_Circuit_1','Court_Abbrev_Bluebook_1','Court_Abbrev_Website_1','Court_State_1']] = df[['Appointing_President_State_1','Court_Circuit_1','Court_Abbrev_Bluebook_1','Court_Abbrev_Website_1','Court_State_1']].astype('category')\n",
    "df.memory_usage().sum() / original_size * 100"
   ]
  },
  {
   "cell_type": "markdown",
   "metadata": {},
   "source": [
    "# Basic Research"
   ]
  },
  {
   "cell_type": "markdown",
   "metadata": {},
   "source": [
    "### Most Appointments"
   ]
  },
  {
   "cell_type": "code",
   "execution_count": null,
   "metadata": {
    "scrolled": true
   },
   "outputs": [],
   "source": [
    "df.Appointing_President_1.value_counts()"
   ]
  },
  {
   "cell_type": "markdown",
   "metadata": {},
   "source": [
    "### Qualifications\n",
    "- ABA Rating\n",
    "- Committee Recommendations\n",
    "- Termination Types"
   ]
  },
  {
   "cell_type": "code",
   "execution_count": null,
   "metadata": {},
   "outputs": [],
   "source": [
    "df.ABA_Rating_1.value_counts()"
   ]
  },
  {
   "cell_type": "code",
   "execution_count": null,
   "metadata": {},
   "outputs": [],
   "source": [
    "df[df.ABA_Rating_1.str.contains(\"Not\", na=False)]['Appointing_President_1'].value_counts()"
   ]
  },
  {
   "cell_type": "code",
   "execution_count": null,
   "metadata": {
    "scrolled": true
   },
   "outputs": [],
   "source": [
    "df[df.ABA_Rating_1.str.contains(\"Not\", na=False)][['Full_Name','ABA_Rating_1','Appointing_President_1','Confirmation_Date_1']].sort_values(by='Confirmation_Date_1', ascending=False)"
   ]
  },
  {
   "cell_type": "code",
   "execution_count": null,
   "metadata": {},
   "outputs": [],
   "source": [
    "df[df.ABA_Rating_2.str.contains(\"Not\", na=False)][['Full_Name','ABA_Rating_2','Appointing_President_2','Confirmation_Date_2']].sort_values(by='Confirmation_Date_2', ascending=False)"
   ]
  },
  {
   "cell_type": "code",
   "execution_count": null,
   "metadata": {},
   "outputs": [],
   "source": [
    "df.Judiciary_Committee_Action_1.value_counts()"
   ]
  },
  {
   "cell_type": "code",
   "execution_count": null,
   "metadata": {
    "scrolled": true
   },
   "outputs": [],
   "source": [
    "df[~df.Judiciary_Committee_Action_1.str.contains(\"\\(favorably\", na=False)][['Full_Name','Judiciary_Committee_Action_1','Appointing_President_1','Confirmation_Date_1']].sort_values(by='Confirmation_Date_1', ascending=False).dropna().head(60)"
   ]
  },
  {
   "cell_type": "code",
   "execution_count": 21,
   "metadata": {},
   "outputs": [
    {
     "data": {
      "text/plain": [
       "Death                               1540\n",
       "Retirement                           283\n",
       "Resignation                          213\n",
       "Recess Appointment-Not Confirmed      16\n",
       "Impeachment & Conviction               8\n",
       "Abolition of Court                     0\n",
       "Name: Termination_1, dtype: int64"
      ]
     },
     "execution_count": 21,
     "metadata": {},
     "output_type": "execute_result"
    }
   ],
   "source": [
    "df.Termination_1.value_counts()"
   ]
  },
  {
   "cell_type": "code",
   "execution_count": null,
   "metadata": {},
   "outputs": [],
   "source": [
    "df[df.Termination_1.str.contains(\"Impeachment\", na=False)][['Full_Name','Termination_1','Appointing_President_1','Confirmation_Date_1']].sort_values(by='Confirmation_Date_1', ascending=False)"
   ]
  },
  {
   "cell_type": "code",
   "execution_count": null,
   "metadata": {},
   "outputs": [],
   "source": [
    "df[df.Termination_1.str.contains(\"Recess\", na=False)][['Full_Name','Termination_1','Appointing_President_1','Recess_Appointment_Date_1']].sort_values(by='Recess_Appointment_Date_1', ascending=False)"
   ]
  },
  {
   "cell_type": "markdown",
   "metadata": {},
   "source": [
    "### Declined & Rejected Appointments"
   ]
  },
  {
   "cell_type": "code",
   "execution_count": null,
   "metadata": {},
   "outputs": [],
   "source": [
    "df[df['Other_Nominations-Recess_Appointments'].str.contains(\"(?i)Declined\", na=False)][['Full_Name','Other_Nominations-Recess_Appointments','Appointing_President_1','Confirmation_Date_1']].sort_values(by='Confirmation_Date_1', ascending=False)"
   ]
  },
  {
   "cell_type": "code",
   "execution_count": null,
   "metadata": {},
   "outputs": [],
   "source": [
    "df[df['Other_Nominations-Recess_Appointments'].str.contains(\"(?i)Rejected\", na=False)][['Full_Name','Other_Nominations-Recess_Appointments','Appointing_President_1','Confirmation_Date_1']].sort_values(by='Confirmation_Date_1', ascending=False)"
   ]
  },
  {
   "cell_type": "code",
   "execution_count": null,
   "metadata": {},
   "outputs": [],
   "source": [
    "df['Other_Nomination'] = df[\"Other_Nominations-Recess_Appointments\"].str.findall(r\"\\b(nominated.*\\d\\d\\d\\d); .*\", flags = re.I).dropna(0)\n",
    "df['Other_Rejection'] = df[\"Other_Nominations-Recess_Appointments\"].str.findall(r\"\\b(rejected.*\\d\\d\\d\\d).*\", flags = re.I).dropna(0)\n",
    "df[df['Other_Nominations-Recess_Appointments'].str.contains(r\"rejected\", na=False, flags = re.I)][['Full_Name','Other_Nomination','Other_Rejection','Appointing_President_1','Confirmation_Date_1']].sort_values(by='Confirmation_Date_1', ascending=False)"
   ]
  },
  {
   "cell_type": "code",
   "execution_count": null,
   "metadata": {},
   "outputs": [],
   "source": [
    "df.loc[df.Party_of_Reappointing_President_1 != df.Party_of_Appointing_President_1][['Full_Name','Appointing_President_1','Reappointing_President_1','Recess_Appointment_Date_1','Nomination_Date_1','Confirmation_Date_1']].dropna().sort_values(by='Confirmation_Date_1', ascending=False)"
   ]
  },
  {
   "cell_type": "markdown",
   "metadata": {},
   "source": [
    "### Demographics Breakdowns"
   ]
  },
  {
   "cell_type": "code",
   "execution_count": null,
   "metadata": {},
   "outputs": [],
   "source": [
    "df.groupby(by='Party_of_Appointing_President_1').Gender.value_counts(1)"
   ]
  },
  {
   "cell_type": "code",
   "execution_count": null,
   "metadata": {},
   "outputs": [],
   "source": [
    "df.groupby(by='Party_of_Appointing_President_1').Race_or_Ethnicity.value_counts(1)"
   ]
  },
  {
   "cell_type": "code",
   "execution_count": null,
   "metadata": {},
   "outputs": [],
   "source": [
    "# Rcount = df.groupby(by='Party_of_Appointing_President_1').Race_or_Ethnicity.value_counts()\n",
    "Rcount = df.Race_or_Ethnicity.value_counts()\n",
    "# sns.barplot(data=df, x='Rcount', y='Rcount', col='Party_of_Appointing_President_1', height=3)\n",
    "# sns.barplot(y=Rcount.index, x=Rcount.values, col='Party_of_Appointing_President_1', height=3)\n",
    "sns.barplot(ydata=df, y='Race_or_Ethnicity'.index, x='Race_or_Ethnicity'.values, col='Party_of_Appointing_President_1', height=3)\n",
    "# sns.barplot(data=df, x='Rcount', y='Rcount', col='Party_of_Appointing_President_1', height=3)"
   ]
  },
  {
   "cell_type": "code",
   "execution_count": null,
   "metadata": {},
   "outputs": [],
   "source": [
    "df.groupby(by='Party_of_Appointing_President_1').Race_or_Ethnicity.value_counts().plot(kind='bar',figsize=(18, 5))"
   ]
  },
  {
   "cell_type": "markdown",
   "metadata": {},
   "source": [
    "### Professional Background"
   ]
  },
  {
   "cell_type": "code",
   "execution_count": null,
   "metadata": {},
   "outputs": [],
   "source": [
    "AVERAGR AGE AT TIME OF APPOINTMENT\n",
    "LENGTH OF SERVICE\n",
    "LENGTH OF PRIOR SERVICE\n",
    "FROM PRESIDENTS STATE\n",
    "\n"
   ]
  },
  {
   "cell_type": "code",
   "execution_count": null,
   "metadata": {},
   "outputs": [],
   "source": [
    "df.Professional_Career.head()"
   ]
  },
  {
   "cell_type": "code",
   "execution_count": null,
   "metadata": {
    "scrolled": true
   },
   "outputs": [],
   "source": [
    "df.Professional_Career = df.Professional_Career.astype(str)\n",
    "# Counter(\" \".join(df.Professional_Career).lower().split()).most_common(60)\n",
    "pd.Series(' '.join(df.Professional_Career).lower().split()).value_counts().head(60)"
   ]
  },
  {
   "cell_type": "code",
   "execution_count": null,
   "metadata": {},
   "outputs": [],
   "source": [
    "df[df.Professional_Career.str.contains('army|navy|marine|force', na=False, flags = re.I)].groupby(by='Appointing_President_1').size().sort_values(ascending=False).head(15)"
   ]
  },
  {
   "cell_type": "code",
   "execution_count": null,
   "metadata": {},
   "outputs": [],
   "source": [
    "search_terms = ['professor','lecturer','faculty','dean']\n",
    "df[df.Professional_Career.str.contains('|'.join(search_terms),na=False,case=False)].groupby(by='Appointing_President_1').size().sort_values(ascending=False).head(15)"
   ]
  },
  {
   "cell_type": "code",
   "execution_count": null,
   "metadata": {},
   "outputs": [],
   "source": [
    "###   BIGRAMS / NGRAMS  ???\n",
    "\n",
    "# df['Prof_Repeats'] = df.Professional_Career.str.findall(r\"(?=(\\b\\w+\\W+\\w+\\W+\\w+))\",flags=re.I).dropna(0)\n",
    "# df.Prof_Repeats.head()\n",
    "# # pd.Series(' '.join(df.Prof_Repeats).lower().split()).value_counts().head(60)\n",
    "# # Counter(\" \".join(df.Prof_Repeats).lower().split()).most_common(60)\n",
    "\n",
    "# bigrams = []\n",
    "# for idx, row in df.iterrows():\n",
    "#     lst = row.Professional_Career.split(' ')\n",
    "#     bigrams.append([(lst[x].strip(), lst[x+1].strip()) for x in range(len(lst)-1)])\n",
    "# print(bigrams)\n",
    "\n",
    "\n",
    "# def bigram(row):\n",
    "#     lst = row['Professional_Career'].split(' ')\n",
    "#     return [(lst[x].strip(), lst[x+1].strip()) for x in range(len(lst)-1)]\n",
    "# bigrams = df.apply(lambda row: bigram(row), axis=1)\n",
    "# print(bigrams.tolist())"
   ]
  },
  {
   "cell_type": "code",
   "execution_count": null,
   "metadata": {},
   "outputs": [],
   "source": [
    "### Gave up, found a ngrams library\n",
    "\n",
    "from sklearn.feature_extraction.text import CountVectorizer\n",
    "word_vectorizer = CountVectorizer(ngram_range=(2,2), analyzer='word')\n",
    "sparse_matrix = word_vectorizer.fit_transform(df.Professional_Career)\n",
    "frequencies = sum(sparse_matrix).toarray()[0]\n",
    "pd.DataFrame(frequencies, index=word_vectorizer.get_feature_names(), columns=['frequency']).sort_values(by='frequency', ascending=False).head(20)"
   ]
  },
  {
   "cell_type": "code",
   "execution_count": null,
   "metadata": {},
   "outputs": [],
   "source": [
    "from sklearn.feature_extraction.text import CountVectorizer\n",
    "word_vectorizer = CountVectorizer(ngram_range=(3,4), analyzer='word')\n",
    "sparse_matrix = word_vectorizer.fit_transform(df.Professional_Career)\n",
    "frequencies = sum(sparse_matrix).toarray()[0]\n",
    "pd.DataFrame(frequencies, index=word_vectorizer.get_feature_names(), columns=['frequency']).sort_values(by='frequency', ascending=False).head(20)"
   ]
  },
  {
   "cell_type": "markdown",
   "metadata": {},
   "source": [
    "### Education"
   ]
  },
  {
   "cell_type": "code",
   "execution_count": null,
   "metadata": {},
   "outputs": [],
   "source": [
    "lastreadlaw = [df[df['School_1'] == 'Read law'].Degree_Year_1.max(),\n",
    "               df[df['School_2'] == 'Read law'].Degree_Year_3.max(), \n",
    "               df[df['School_3'] == 'Read law'].Degree_Year_3.max(),\n",
    "               df[df['School_4'] == 'Read law'].Degree_Year_4.max(), \n",
    "               df[df['School_5'] == 'Read law'].Degree_Year_5.max()\n",
    "              ]\n",
    "lastreadlaw"
   ]
  },
  {
   "cell_type": "code",
   "execution_count": null,
   "metadata": {},
   "outputs": [],
   "source": [
    "allschool_df = df[['Full_Name','Appointing_President_1','Party_of_Appointing_President_1']]\n",
    "allschool_df['Schl1'] = df.School_1 + '-777777777-' + df.Degree_1.fillna('nun') + '-999999999-' + df.Degree_Year_1.astype(str).fillna('nun')\n",
    "allschool_df['Schl2'] = df.School_2 + '-777777777-' + df.Degree_2.fillna('nun') + '-999999999-' + df.Degree_Year_2.astype(str).fillna('nun')\n",
    "allschool_df['Schl3'] = df.School_3 + '-777777777-' + df.Degree_3.fillna('nun') + '-999999999-' + df.Degree_Year_3.astype(str).fillna('nun')\n",
    "allschool_df['Schl4'] = df.School_4 + '-777777777-' + df.Degree_4.fillna('nun') + '-999999999-' + df.Degree_Year_4.astype(str).fillna('nun')\n",
    "allschool_df['Schl5'] = df.School_5 + '-777777777-' + df.Degree_5.fillna('nun') + '-999999999-' + df.Degree_Year_5.astype(str).fillna('nun')\n",
    "allschool_df"
   ]
  },
  {
   "cell_type": "code",
   "execution_count": null,
   "metadata": {},
   "outputs": [],
   "source": [
    "allschool_df = allschool_df.melt(id_vars =['Full_Name','Appointing_President_1','Party_of_Appointing_President_1'], value_vars =['Schl1','Schl2','Schl3','Schl4','Schl5'], var_name='Degree_Number', value_name='School')"
   ]
  },
  {
   "cell_type": "code",
   "execution_count": null,
   "metadata": {},
   "outputs": [],
   "source": [
    "allschool_df.Degree_Number.replace(r'Schl',r'',regex=True,inplace=True)\n",
    "allschool_df['Degree'] = allschool_df.School.str.extract('-777777777-(.*)-999999999-', expand=False)\n",
    "allschool_df['Degree_Year'] = allschool_df.School.str.extract('.*-999999999-(.*)$', expand=False)\n",
    "allschool_df['School'] = allschool_df.School.str.extract(r'(.*)-777777777-.*', expand=False)\n",
    "allschool_df['DYear'] = allschool_df.Degree_Year.str.extract('^(\\d\\d\\d\\d).*', expand=False)\n",
    "allschool_df.replace('nun',np.nan,inplace=True)\n",
    "allschool_df.Degree_Year = allschool_df.Degree_Year.astype('datetime64[ns]') "
   ]
  },
  {
   "cell_type": "code",
   "execution_count": null,
   "metadata": {},
   "outputs": [],
   "source": [
    "allschool_df.head(15)"
   ]
  },
  {
   "cell_type": "code",
   "execution_count": null,
   "metadata": {
    "scrolled": true
   },
   "outputs": [],
   "source": [
    "allschool_df['School_Neat'] = allschool_df['School']\n",
    "allschool_df.School_Neat.replace(r'.*\\(now (.*)\\)',r'\\1',regex=True,inplace=True)\n",
    "allschool_df.replace({'School_Neat':{\n",
    "    'College of':'Cof',\n",
    "    ' College':'',\n",
    "    'University of':'Uof',\n",
    "    ' University':'',\n",
    "    ' Department':'',\n",
    "    ' Faculty':'',\n",
    "    ' School':'',\n",
    "    ' Center':'',\n",
    "    ' of Law':'',\n",
    "    ' Law':'',\n",
    "    ' of Jurisprudence':'',\n",
    "    ' of Business':'',\n",
    "    ' Business':'',\n",
    "    ' Administration':'',\n",
    "    ' Wharton':'',\n",
    "    ' Gould':'',\n",
    "    ', Boalt Hall':'',\n",
    "    ', Paul M. Hebert':'',\n",
    "    '-Kansas City':'',\n",
    "    ' -- Newark':'',\n",
    "    ' -- Camden':'',\n",
    "    '  ':' '\n",
    "}},regex=True,inplace=True)\n",
    "allschool_df.School_Neat.replace(r'\\s?Cof','',regex=True,inplace=True)\n",
    "allschool_df.School_Neat.replace(r'\\s?$','',regex=True,inplace=True)\n",
    "allschool_df.School_Neat.replace(r',$','',regex=True,inplace=True)\n",
    "allschool_df.School_Neat.value_counts().head(60)"
   ]
  },
  {
   "cell_type": "code",
   "execution_count": null,
   "metadata": {},
   "outputs": [],
   "source": [
    "allschool_df.School_Neat.value_counts().head(30).plot(kind='barh', figsize=(18, 8), y='School_Neat').invert_yaxis()"
   ]
  },
  {
   "cell_type": "code",
   "execution_count": null,
   "metadata": {},
   "outputs": [],
   "source": [
    "allschool_df.groupby(['DYear']).School_Neat.count().plot(figsize=(18, 8))\n",
    "\n",
    "\n",
    "# allschool_df.School_Neat.value_counts().head(30).plot(kind='barh', figsize=(18, 8), y='School_Neat').invert_yaxis()\n",
    "# allschool_df.School_Neat.value_counts().head(30).groupby(by='DYear').plot(kind='barh', figsize=(18, 8)).invert_yaxis()\n",
    "\n",
    "# allschool_df.plot(x='DYear', y='School_Neat', figsize=(18, 5), lw=0.5)\n",
    "# allschool_df.groupby(by='DYear').School_Neat.value_counts(1)"
   ]
  },
  {
   "cell_type": "code",
   "execution_count": null,
   "metadata": {},
   "outputs": [],
   "source": [
    "allschool_df.groupby(by='Party_of_Appointing_President_1').School_Neat.value_counts(1)"
   ]
  },
  {
   "cell_type": "code",
   "execution_count": null,
   "metadata": {
    "scrolled": false
   },
   "outputs": [],
   "source": [
    "allschool_df.Degree.value_counts().head(20)"
   ]
  },
  {
   "cell_type": "code",
   "execution_count": null,
   "metadata": {},
   "outputs": [],
   "source": [
    "allschool_df['Degree_Neat'] = allschool_df['Degree']\n",
    "# allschool_df.School_Neat.replace(r'.*\\(now (.*)\\)',r'\\1',regex=True,inplace=True)\n",
    "# allschool_df.replace({'School_Neat':{\n",
    "#     'College of':'Cof',\n",
    "#     ' College':'',\n",
    "#     'University of':'Uof',\n",
    "#     ' University':'',\n",
    "#     ' Department':'',\n",
    "#     ' Faculty':'',\n",
    "#     ' School':'',\n",
    "#     ' Center':'',\n",
    "#     ' of Law':'',\n",
    "#     ' Law':'',\n",
    "#     ' of Jurisprudence':'',\n",
    "#     ' of Business':'',\n",
    "#     ' Business':'',\n",
    "#     ' Administration':'',\n",
    "#     ' Wharton':'',\n",
    "#     ' Gould':'',\n",
    "#     ', Boalt Hall':'',\n",
    "#     ', Paul M. Hebert':'',\n",
    "#     '-Kansas City':'',\n",
    "#     ' -- Newark':'',\n",
    "#     ' -- Camden':'',\n",
    "#     '  ':' '\n",
    "# }},regex=True,inplace=True)\n",
    "# allschool_df.School_Neat.replace(r'\\s?Cof','',regex=True,inplace=True)\n",
    "# allschool_df.School_Neat.replace(r'\\s?$','',regex=True,inplace=True)\n",
    "# allschool_df.School_Neat.replace(r',$','',regex=True,inplace=True)\n",
    "# allschool_df.School_Neat.value_counts().head(60)"
   ]
  },
  {
   "cell_type": "code",
   "execution_count": null,
   "metadata": {
    "scrolled": true
   },
   "outputs": [],
   "source": [
    "allschool_df.groupby(by='DYear').Degree.value_counts().unstack().plot(figsize=(18, 5), kind='line')"
   ]
  },
  {
   "cell_type": "code",
   "execution_count": null,
   "metadata": {},
   "outputs": [],
   "source": [
    "allschool_df.Degree.value_counts().plot(figsize=(18, 5), kind='line', x='DYear', y='Degree')\n"
   ]
  },
  {
   "cell_type": "code",
   "execution_count": null,
   "metadata": {},
   "outputs": [],
   "source": [
    "allschool_df[['Degree', 'DYear']]\n",
    "# value_counts().plot(figsize=(18, 5), kind='line', x='DYear', y='Degree')"
   ]
  },
  {
   "cell_type": "code",
   "execution_count": null,
   "metadata": {},
   "outputs": [],
   "source": [
    "allschool_df.groupby(by='DYear').Degree.value_counts().plot(figsize=(18, 5))\n",
    "# allschool_df.groupby(by='DYear').Degree.count().plot(figsize=(18, 5))\n",
    "# allschool_df.groupby(['DYear','Degree']).count().unstack().plot.line(x='DYear', y='Degree', figsize=(18, 5), lw=0.5)\n",
    "\n",
    "# allschool_df.Degree.value_counts().plot.line(x='Degree', y='DYear', figsize=(18, 5), lw=0.5)\n",
    "# allschool_df.groupby(by='DYear').School_Neat.value_counts(1)"
   ]
  },
  {
   "cell_type": "code",
   "execution_count": null,
   "metadata": {},
   "outputs": [],
   "source": [
    "allschool_df.to_csv('allschool.csv', index=False)"
   ]
  },
  {
   "cell_type": "code",
   "execution_count": null,
   "metadata": {},
   "outputs": [],
   "source": [
    "df[df['School_1'].isin(['Harvard University', 'Yale University', 'Brown University', 'Columbia University', 'Princeton University'])]"
   ]
  },
  {
   "cell_type": "markdown",
   "metadata": {},
   "source": [
    "### Confirmation Dates"
   ]
  },
  {
   "cell_type": "code",
   "execution_count": null,
   "metadata": {},
   "outputs": [],
   "source": [
    "df['Confirmation_Duration_Total'] = df.Confirmation_Date_1 - df.Nomination_Date_1\n",
    "df.Confirmation_Duration_Total.sort_values(ascending=False).describe()"
   ]
  },
  {
   "cell_type": "code",
   "execution_count": null,
   "metadata": {
    "scrolled": true
   },
   "outputs": [],
   "source": [
    "df.groupby(by='Appointing_President_1').Confirmation_Duration_Total.max().sort_values(ascending=False)"
   ]
  },
  {
   "cell_type": "code",
   "execution_count": null,
   "metadata": {},
   "outputs": [],
   "source": [
    "df[(df.Appointing_President_1.str.contains('Barack')) & (df.Termination_Date_1 < '20160115')][['Full_Name','Court_Type_1','Confirmation_Date_1','Termination_1','Termination_Date_1','Court_Type_2']].sort_values(by=['Confirmation_Date_1','Termination_Date_1'],ascending=[0,1])"
   ]
  },
  {
   "cell_type": "code",
   "execution_count": null,
   "metadata": {},
   "outputs": [],
   "source": []
  },
  {
   "cell_type": "code",
   "execution_count": null,
   "metadata": {},
   "outputs": [],
   "source": [
    "strg = dt.strftime('%Y-%m-%d %H-%M-%S')"
   ]
  },
  {
   "cell_type": "code",
   "execution_count": 69,
   "metadata": {},
   "outputs": [],
   "source": [
    "df.to_csv('judges_pandaed.csv', index=False)"
   ]
  },
  {
   "cell_type": "code",
   "execution_count": null,
   "metadata": {},
   "outputs": [],
   "source": []
  },
  {
   "cell_type": "code",
   "execution_count": null,
   "metadata": {},
   "outputs": [],
   "source": []
  }
 ],
 "metadata": {
  "kernelspec": {
   "display_name": "Python 3",
   "language": "python",
   "name": "python3"
  },
  "language_info": {
   "codemirror_mode": {
    "name": "ipython",
    "version": 3
   },
   "file_extension": ".py",
   "mimetype": "text/x-python",
   "name": "python",
   "nbconvert_exporter": "python",
   "pygments_lexer": "ipython3",
   "version": "3.7.3"
  }
 },
 "nbformat": 4,
 "nbformat_minor": 2
}
