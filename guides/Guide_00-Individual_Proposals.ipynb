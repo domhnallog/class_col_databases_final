{
 "cells": [
  {
   "cell_type": "markdown",
   "metadata": {},
   "source": [
    "## Final project proposal/pitch\n",
    "\n",
    "### Deadlines\n",
    "\n",
    "Due Jun 20 by 4pm\n",
    "\n",
    "Please note, the deadlines have been changed!\n",
    "Due Jun 23 by 4pm\n",
    "\n",
    "Please submit your proposal for an individual final project. If you are choosing to do one of the guided projects the options was be presented on Wednesday. \n",
    "\n",
    "If you are proposing to do you own project, read the proposal/pitch instructions below. Regardless of what you decide, please read the next two paragraphs about the process for the next two weeks:"
   ]
  },
  {
   "cell_type": "markdown",
   "metadata": {},
   "source": [
    "### THE NEXT TWO WEEKS\n",
    "\n",
    "While I am very interested in the individual projects that you are thinking about doing, from a practical standpoint choosing one of the options for the guided projects may be the more realistic choice considering there are two weeks left to complete these.\n",
    "\n",
    "That said, completion is not really the ultimate goal in the next two weeks. I will be happy with any level of progress and learning as we use these projects to integrate the skills we've gained thus far in the program. The final classes--Friday and Saturday (July 5 and 6)--will consist mainly of presentations by each class member. The projects do not necessarily have to be complete by July 6--the presentations need only be a discussion of your experience of this process: your approach, the challenges you faced, and discoveries you made. It will be an opportunity to get feedback from community, and assess the process doing data projects as you go forward in this program.\n",
    "\n",
    "From a learning standpoint--I encourage you to consider the guided projects, I think it will be useful to have multiple presentations on the same project. But if you do want investigate your own set of data, please follow the instructions below."
   ]
  },
  {
   "cell_type": "markdown",
   "metadata": {},
   "source": [
    "### PROPOSALS AND PITCHES FOR OUTSIDE PROJECTS\n",
    "\n",
    "You will need to obtain my approval in order to do your own project. If you have an idea for your own project, please answer the following questions and submit them by the propsal deadline.\n",
    "\n",
    "1. what is the subject of the project?\n",
    "2. what is your main research question?\n",
    "3. what is/are your data source(s)? please provide links\n",
    "4. how will you transform the data into your own data set: scraping, regex, etc?\n",
    "4. how can this data set be geocoded?\n",
    "5. on the map, what level of study would be displayed: Country, State, City, neighborhood?\n",
    "6. what information would be displayed when you click on/rollover a country (city, etc)?\n",
    "\n",
    "Please submit the answers to these questions in the text field for this assignment."
   ]
  },
  {
   "cell_type": "code",
   "execution_count": null,
   "metadata": {},
   "outputs": [],
   "source": []
  }
 ],
 "metadata": {
  "kernelspec": {
   "display_name": "Python 3",
   "language": "python",
   "name": "python3"
  },
  "language_info": {
   "codemirror_mode": {
    "name": "ipython",
    "version": 3
   },
   "file_extension": ".py",
   "mimetype": "text/x-python",
   "name": "python",
   "nbconvert_exporter": "python",
   "pygments_lexer": "ipython3",
   "version": "3.7.3"
  }
 },
 "nbformat": 4,
 "nbformat_minor": 2
}
