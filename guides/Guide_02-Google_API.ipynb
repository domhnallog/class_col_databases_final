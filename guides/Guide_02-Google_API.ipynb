{
 "cells": [
  {
   "cell_type": "code",
   "execution_count": 1,
   "metadata": {
    "collapsed": true
   },
   "outputs": [],
   "source": [
    "import requests\n"
   ]
  },
  {
   "cell_type": "markdown",
   "metadata": {},
   "source": [
    "GOOGLE'S GEOCODING API:\n",
    "https://developers.google.com/maps/documentation/geocoding"
   ]
  },
  {
   "cell_type": "code",
   "execution_count": 2,
   "metadata": {
    "collapsed": true
   },
   "outputs": [],
   "source": [
    "import os\n",
    "api_key = os.environ['GMAP_API']\n",
    "#https://www.youtube.com/watch?v=5iWhQWVXosU"
   ]
  },
  {
   "cell_type": "code",
   "execution_count": 3,
   "metadata": {
    "collapsed": true
   },
   "outputs": [],
   "source": [
    "url = 'https://maps.googleapis.com/maps/api/geocode/json'\n",
    "keys = {'address': 'Washington, DC', 'key': api_key}\n",
    "r = requests.get(url,params=keys)"
   ]
  },
  {
   "cell_type": "code",
   "execution_count": 4,
   "metadata": {
    "collapsed": true
   },
   "outputs": [],
   "source": [
    "result_dic = r.json()"
   ]
  },
  {
   "cell_type": "code",
   "execution_count": 5,
   "metadata": {},
   "outputs": [
    {
     "data": {
      "text/plain": [
       "{'address_components': [{'long_name': 'Washington',\n",
       "   'short_name': 'Washington',\n",
       "   'types': ['locality', 'political']},\n",
       "  {'long_name': 'District of Columbia',\n",
       "   'short_name': 'District of Columbia',\n",
       "   'types': ['administrative_area_level_2', 'political']},\n",
       "  {'long_name': 'District of Columbia',\n",
       "   'short_name': 'DC',\n",
       "   'types': ['administrative_area_level_1', 'political']},\n",
       "  {'long_name': 'United States',\n",
       "   'short_name': 'US',\n",
       "   'types': ['country', 'political']}],\n",
       " 'formatted_address': 'Washington, DC, USA',\n",
       " 'geometry': {'bounds': {'northeast': {'lat': 38.995548, 'lng': -76.909393},\n",
       "   'southwest': {'lat': 38.7916449, 'lng': -77.119759}},\n",
       "  'location': {'lat': 38.9071923, 'lng': -77.0368707},\n",
       "  'location_type': 'APPROXIMATE',\n",
       "  'viewport': {'northeast': {'lat': 38.995548, 'lng': -76.909393},\n",
       "   'southwest': {'lat': 38.7916449, 'lng': -77.119759}}},\n",
       " 'place_id': 'ChIJW-T2Wt7Gt4kRKl2I1CJFUsI',\n",
       " 'types': ['locality', 'political']}"
      ]
     },
     "execution_count": 5,
     "metadata": {},
     "output_type": "execute_result"
    }
   ],
   "source": [
    "result_dic['results'][0]"
   ]
  },
  {
   "cell_type": "code",
   "execution_count": 14,
   "metadata": {},
   "outputs": [
    {
     "data": {
      "text/plain": [
       "{'address_components': [{'long_name': '200',\n",
       "   'short_name': '200',\n",
       "   'types': ['street_number']},\n",
       "  {'long_name': 'West 78th Street',\n",
       "   'short_name': 'W 78th St',\n",
       "   'types': ['route']},\n",
       "  {'long_name': 'Manhattan',\n",
       "   'short_name': 'Manhattan',\n",
       "   'types': ['political', 'sublocality', 'sublocality_level_1']},\n",
       "  {'long_name': 'New York',\n",
       "   'short_name': 'New York',\n",
       "   'types': ['locality', 'political']},\n",
       "  {'long_name': 'New York County',\n",
       "   'short_name': 'New York County',\n",
       "   'types': ['administrative_area_level_2', 'political']},\n",
       "  {'long_name': 'New York',\n",
       "   'short_name': 'NY',\n",
       "   'types': ['administrative_area_level_1', 'political']},\n",
       "  {'long_name': 'United States',\n",
       "   'short_name': 'US',\n",
       "   'types': ['country', 'political']},\n",
       "  {'long_name': '10024', 'short_name': '10024', 'types': ['postal_code']}],\n",
       " 'formatted_address': '200 W 78th St, New York, NY 10024, USA',\n",
       " 'geometry': {'location': {'lat': 40.7824071, 'lng': -73.9791424},\n",
       "  'location_type': 'ROOFTOP',\n",
       "  'viewport': {'northeast': {'lat': 40.7837560802915,\n",
       "    'lng': -73.97779341970849},\n",
       "   'southwest': {'lat': 40.7810581197085, 'lng': -73.98049138029151}}},\n",
       " 'place_id': 'ChIJEekQ74hYwokRr_epHbzDbeU',\n",
       " 'plus_code': {'compound_code': 'Q2JC+X8 New York, United States',\n",
       "  'global_code': '87G8Q2JC+X8'},\n",
       " 'types': ['street_address']}"
      ]
     },
     "execution_count": 14,
     "metadata": {},
     "output_type": "execute_result"
    }
   ],
   "source": [
    "result_dic['results'][0]"
   ]
  },
  {
   "cell_type": "code",
   "execution_count": 16,
   "metadata": {},
   "outputs": [
    {
     "data": {
      "text/plain": [
       "{'long_name': 'Manhattan',\n",
       " 'short_name': 'Manhattan',\n",
       " 'types': ['political', 'sublocality', 'sublocality_level_1']}"
      ]
     },
     "execution_count": 16,
     "metadata": {},
     "output_type": "execute_result"
    }
   ],
   "source": [
    "result_dic['results'][0]['address_components'][2]"
   ]
  },
  {
   "cell_type": "code",
   "execution_count": 17,
   "metadata": {},
   "outputs": [
    {
     "data": {
      "text/plain": [
       "{'location': {'lat': 40.7824071, 'lng': -73.9791424},\n",
       " 'location_type': 'ROOFTOP',\n",
       " 'viewport': {'northeast': {'lat': 40.7837560802915,\n",
       "   'lng': -73.97779341970849},\n",
       "  'southwest': {'lat': 40.7810581197085, 'lng': -73.98049138029151}}}"
      ]
     },
     "execution_count": 17,
     "metadata": {},
     "output_type": "execute_result"
    }
   ],
   "source": [
    "result_dic['results'][0]['geometry']"
   ]
  },
  {
   "cell_type": "code",
   "execution_count": null,
   "metadata": {
    "collapsed": true
   },
   "outputs": [],
   "source": []
  }
 ],
 "metadata": {
  "kernelspec": {
   "display_name": "Python 3",
   "language": "python",
   "name": "python3"
  },
  "language_info": {
   "codemirror_mode": {
    "name": "ipython",
    "version": 3
   },
   "file_extension": ".py",
   "mimetype": "text/x-python",
   "name": "python",
   "nbconvert_exporter": "python",
   "pygments_lexer": "ipython3",
   "version": "3.7.3"
  }
 },
 "nbformat": 4,
 "nbformat_minor": 2
}
