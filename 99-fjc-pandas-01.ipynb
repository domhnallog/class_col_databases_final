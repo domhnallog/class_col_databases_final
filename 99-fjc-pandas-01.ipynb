{
 "cells": [
  {
   "cell_type": "code",
   "execution_count": 1,
   "metadata": {},
   "outputs": [],
   "source": [
    "import pandas as pd\n",
    "import numpy as np\n",
    "import pandas_profiling\n",
    "# import requests\n",
    "# import json\n",
    "import re\n",
    "# import os\n",
    "# import time\n",
    "# from bs4 import BeautifulSoup\n",
    "from collections import Counter\n",
    "%matplotlib inline"
   ]
  },
  {
   "cell_type": "code",
   "execution_count": 9,
   "metadata": {},
   "outputs": [
    {
     "data": {
      "text/html": [
       "<div>\n",
       "<style scoped>\n",
       "    .dataframe tbody tr th:only-of-type {\n",
       "        vertical-align: middle;\n",
       "    }\n",
       "\n",
       "    .dataframe tbody tr th {\n",
       "        vertical-align: top;\n",
       "    }\n",
       "\n",
       "    .dataframe thead th {\n",
       "        text-align: right;\n",
       "    }\n",
       "</style>\n",
       "<table border=\"1\" class=\"dataframe\">\n",
       "  <thead>\n",
       "    <tr style=\"text-align: right;\">\n",
       "      <th></th>\n",
       "      <th>nid</th>\n",
       "      <th>jid</th>\n",
       "      <th>Last Name</th>\n",
       "      <th>First Name</th>\n",
       "      <th>Middle Name</th>\n",
       "      <th>Suffix</th>\n",
       "      <th>Birth Month</th>\n",
       "      <th>Birth Day</th>\n",
       "      <th>Birth Year</th>\n",
       "      <th>Birth City</th>\n",
       "      <th>...</th>\n",
       "      <th>Degree (3)</th>\n",
       "      <th>Degree Year (3)</th>\n",
       "      <th>School (4)</th>\n",
       "      <th>Degree (4)</th>\n",
       "      <th>Degree Year (4)</th>\n",
       "      <th>School (5)</th>\n",
       "      <th>Degree (5)</th>\n",
       "      <th>Degree Year (5)</th>\n",
       "      <th>Professional Career</th>\n",
       "      <th>Other Nominations/Recess Appointments</th>\n",
       "    </tr>\n",
       "  </thead>\n",
       "  <tbody>\n",
       "    <tr>\n",
       "      <th>0</th>\n",
       "      <td>1394646</td>\n",
       "      <td>3563</td>\n",
       "      <td>Abrams</td>\n",
       "      <td>Leslie</td>\n",
       "      <td>Joyce</td>\n",
       "      <td></td>\n",
       "      <td>NaN</td>\n",
       "      <td>NaN</td>\n",
       "      <td>1974</td>\n",
       "      <td>Madison</td>\n",
       "      <td>...</td>\n",
       "      <td>NaN</td>\n",
       "      <td>NaN</td>\n",
       "      <td>NaN</td>\n",
       "      <td>NaN</td>\n",
       "      <td>NaN</td>\n",
       "      <td>NaN</td>\n",
       "      <td>NaN</td>\n",
       "      <td>NaN</td>\n",
       "      <td>Law clerk, Hon. Marvin J. Garbis, U.S. Distric...</td>\n",
       "      <td>NaN</td>\n",
       "    </tr>\n",
       "    <tr>\n",
       "      <th>1</th>\n",
       "      <td>1393931</td>\n",
       "      <td>3419</td>\n",
       "      <td>Abrams</td>\n",
       "      <td>Ronnie</td>\n",
       "      <td></td>\n",
       "      <td></td>\n",
       "      <td>NaN</td>\n",
       "      <td>NaN</td>\n",
       "      <td>1968</td>\n",
       "      <td>New York</td>\n",
       "      <td>...</td>\n",
       "      <td>NaN</td>\n",
       "      <td>NaN</td>\n",
       "      <td>NaN</td>\n",
       "      <td>NaN</td>\n",
       "      <td>NaN</td>\n",
       "      <td>NaN</td>\n",
       "      <td>NaN</td>\n",
       "      <td>NaN</td>\n",
       "      <td>Law clerk, Hon. Thomas P. Griesa, U.S. Distric...</td>\n",
       "      <td>NaN</td>\n",
       "    </tr>\n",
       "    <tr>\n",
       "      <th>2</th>\n",
       "      <td>1376976</td>\n",
       "      <td>1</td>\n",
       "      <td>Abruzzo</td>\n",
       "      <td>Matthew</td>\n",
       "      <td>T.</td>\n",
       "      <td></td>\n",
       "      <td>4.0</td>\n",
       "      <td>30.0</td>\n",
       "      <td>1889</td>\n",
       "      <td>Brooklyn</td>\n",
       "      <td>...</td>\n",
       "      <td>NaN</td>\n",
       "      <td>NaN</td>\n",
       "      <td>NaN</td>\n",
       "      <td>NaN</td>\n",
       "      <td>NaN</td>\n",
       "      <td>NaN</td>\n",
       "      <td>NaN</td>\n",
       "      <td>NaN</td>\n",
       "      <td>Private practice, Brooklyn, New York, 1910-1936</td>\n",
       "      <td>NaN</td>\n",
       "    </tr>\n",
       "    <tr>\n",
       "      <th>3</th>\n",
       "      <td>1376981</td>\n",
       "      <td>2</td>\n",
       "      <td>Acheson</td>\n",
       "      <td>Marcus</td>\n",
       "      <td>Wilson</td>\n",
       "      <td></td>\n",
       "      <td>6.0</td>\n",
       "      <td>7.0</td>\n",
       "      <td>1828</td>\n",
       "      <td>Washington</td>\n",
       "      <td>...</td>\n",
       "      <td>NaN</td>\n",
       "      <td>NaN</td>\n",
       "      <td>NaN</td>\n",
       "      <td>NaN</td>\n",
       "      <td>NaN</td>\n",
       "      <td>NaN</td>\n",
       "      <td>NaN</td>\n",
       "      <td>NaN</td>\n",
       "      <td>Private practice, Pittsburgh, Pennsylvania, 18...</td>\n",
       "      <td>NaN</td>\n",
       "    </tr>\n",
       "    <tr>\n",
       "      <th>4</th>\n",
       "      <td>1376986</td>\n",
       "      <td>3</td>\n",
       "      <td>Acker</td>\n",
       "      <td>William</td>\n",
       "      <td>Marsh</td>\n",
       "      <td>Jr.</td>\n",
       "      <td>10.0</td>\n",
       "      <td>25.0</td>\n",
       "      <td>1927</td>\n",
       "      <td>Birmingham</td>\n",
       "      <td>...</td>\n",
       "      <td>NaN</td>\n",
       "      <td>NaN</td>\n",
       "      <td>NaN</td>\n",
       "      <td>NaN</td>\n",
       "      <td>NaN</td>\n",
       "      <td>NaN</td>\n",
       "      <td>NaN</td>\n",
       "      <td>NaN</td>\n",
       "      <td>U.S. Army private first class, 1946-1947; Priv...</td>\n",
       "      <td>NaN</td>\n",
       "    </tr>\n",
       "  </tbody>\n",
       "</table>\n",
       "<p>5 rows × 201 columns</p>\n",
       "</div>"
      ],
      "text/plain": [
       "       nid   jid Last Name First Name Middle Name Suffix  Birth Month  \\\n",
       "0  1394646  3563    Abrams     Leslie       Joyce                 NaN   \n",
       "1  1393931  3419    Abrams     Ronnie                             NaN   \n",
       "2  1376976     1   Abruzzo    Matthew          T.                 4.0   \n",
       "3  1376981     2   Acheson     Marcus      Wilson                 6.0   \n",
       "4  1376986     3     Acker    William       Marsh    Jr.         10.0   \n",
       "\n",
       "   Birth Day Birth Year  Birth City  ... Degree (3)  Degree Year (3)  \\\n",
       "0        NaN       1974     Madison  ...        NaN              NaN   \n",
       "1        NaN       1968    New York  ...        NaN              NaN   \n",
       "2       30.0       1889    Brooklyn  ...        NaN              NaN   \n",
       "3        7.0       1828  Washington  ...        NaN              NaN   \n",
       "4       25.0       1927  Birmingham  ...        NaN              NaN   \n",
       "\n",
       "   School (4)  Degree (4) Degree Year (4) School (5) Degree (5)  \\\n",
       "0         NaN         NaN             NaN        NaN        NaN   \n",
       "1         NaN         NaN             NaN        NaN        NaN   \n",
       "2         NaN         NaN             NaN        NaN        NaN   \n",
       "3         NaN         NaN             NaN        NaN        NaN   \n",
       "4         NaN         NaN             NaN        NaN        NaN   \n",
       "\n",
       "  Degree Year (5)                                Professional Career  \\\n",
       "0             NaN  Law clerk, Hon. Marvin J. Garbis, U.S. Distric...   \n",
       "1             NaN  Law clerk, Hon. Thomas P. Griesa, U.S. Distric...   \n",
       "2             NaN    Private practice, Brooklyn, New York, 1910-1936   \n",
       "3             NaN  Private practice, Pittsburgh, Pennsylvania, 18...   \n",
       "4             NaN  U.S. Army private first class, 1946-1947; Priv...   \n",
       "\n",
       "  Other Nominations/Recess Appointments  \n",
       "0                                   NaN  \n",
       "1                                   NaN  \n",
       "2                                   NaN  \n",
       "3                                   NaN  \n",
       "4                                   NaN  \n",
       "\n",
       "[5 rows x 201 columns]"
      ]
     },
     "execution_count": 9,
     "metadata": {},
     "output_type": "execute_result"
    }
   ],
   "source": [
    "df = pd.read_csv(\"sources/judges.csv\")\n",
    "df.head()"
   ]
  },
  {
   "cell_type": "code",
   "execution_count": 10,
   "metadata": {},
   "outputs": [],
   "source": [
    "df.columns = df.columns.str.replace(' ', '_')\n",
    "df.columns = df.columns.str.replace('/', '-')\n",
    "df.columns = df.columns.str.replace('\\(|\\)|,', '')\n",
    "df.replace('ca. ','',regex=True,inplace=True)"
   ]
  },
  {
   "cell_type": "code",
   "execution_count": null,
   "metadata": {},
   "outputs": [],
   "source": [
    "# df.apply(lambda row: row.astype(str).str.contains('ca. ').any())\n",
    "# df.apply(lambda row: row.astype(str).str.contains('ca. ').any(), axis=1).value_counts()\n",
    "\n",
    "# df = df.str.replace('ca.','circa')\n",
    "# df = df.str.replace('ca.','')\n",
    "# df.columns = df.columns.str.replace('ca. (\\d\\d\\d\\d)', '$1 circa', regex=True)\n",
    "# df.replace('ca. (\\d\\d\\d\\d)', '$1 circa', regex=True)\n",
    "\n",
    "# for col in df: \n",
    "#     df[col].str.contains('ca.')\n",
    "\n",
    "# mask = np.column_stack([df[col].str.contains(r\"ca. \", na=False) for col in df])\n",
    "# df.loc[mask.any(axis=1)]\n",
    "\n",
    "# circa.strip('ca. ') for circa in df.Degree_Year_1\n",
    "\n",
    "# zed = df.apply(lambda row: row.astype(str).str.contains('ca. ').any(), axis=1)\n",
    "# circa.strip('ca. ') for circa in zed"
   ]
  },
  {
   "cell_type": "code",
   "execution_count": 14,
   "metadata": {},
   "outputs": [],
   "source": [
    "# df.df.School_1.apply(lambda x: x.strip('ca. '))\n",
    "df.Birth_Year = [x.strip('ca. ') for x in df.Birth_Year]"
   ]
  },
  {
   "cell_type": "code",
   "execution_count": 18,
   "metadata": {},
   "outputs": [],
   "source": [
    "df.replace('ca. ','',regex=True,inplace=True)"
   ]
  },
  {
   "cell_type": "code",
   "execution_count": 25,
   "metadata": {},
   "outputs": [
    {
     "ename": "TypeError",
     "evalue": "sort_values() got an unexpected keyword argument 'by'",
     "output_type": "error",
     "traceback": [
      "\u001b[1;31m---------------------------------------------------------------------------\u001b[0m",
      "\u001b[1;31mTypeError\u001b[0m                                 Traceback (most recent call last)",
      "\u001b[1;32m<ipython-input-25-82e654013c1a>\u001b[0m in \u001b[0;36m<module>\u001b[1;34m\u001b[0m\n\u001b[0;32m      1\u001b[0m \u001b[1;31m# df[df['School_1'] == 'Read law'].Degree_Year_1.max()\u001b[0m\u001b[1;33m\u001b[0m\u001b[1;33m\u001b[0m\u001b[1;33m\u001b[0m\u001b[0m\n\u001b[1;32m----> 2\u001b[1;33m \u001b[0mdf\u001b[0m\u001b[1;33m.\u001b[0m\u001b[0mDegree_Year_1\u001b[0m\u001b[1;33m.\u001b[0m\u001b[0msort_values\u001b[0m\u001b[1;33m(\u001b[0m\u001b[0mby\u001b[0m\u001b[1;33m=\u001b[0m\u001b[1;34m'Degree_Year_1'\u001b[0m\u001b[1;33m,\u001b[0m \u001b[0mascending\u001b[0m\u001b[1;33m=\u001b[0m\u001b[1;32mFalse\u001b[0m\u001b[1;33m)\u001b[0m\u001b[1;33m\u001b[0m\u001b[1;33m\u001b[0m\u001b[0m\n\u001b[0m",
      "\u001b[1;31mTypeError\u001b[0m: sort_values() got an unexpected keyword argument 'by'"
     ]
    }
   ],
   "source": [
    "# df[df['School_1'] == 'Read law'].Degree_Year_1.max()\n",
    "df.Degree_Year_1.sort_values(by='Degree_Year_1', ascending=False)"
   ]
  },
  {
   "cell_type": "code",
   "execution_count": null,
   "metadata": {},
   "outputs": [],
   "source": [
    "df.info()"
   ]
  },
  {
   "cell_type": "code",
   "execution_count": null,
   "metadata": {},
   "outputs": [],
   "source": [
    "original_size = df.memory_usage().sum()\n",
    "original_size"
   ]
  },
  {
   "cell_type": "code",
   "execution_count": 11,
   "metadata": {},
   "outputs": [
    {
     "name": "stdout",
     "output_type": "stream",
     "text": [
      "<class 'pandas.core.frame.DataFrame'>\n",
      "RangeIndex: 3694 entries, 0 to 3693\n",
      "Data columns (total 201 columns):\n",
      "nid                                      int64\n",
      "jid                                      int64\n",
      "Last_Name                                object\n",
      "First_Name                               object\n",
      "Middle_Name                              object\n",
      "Suffix                                   object\n",
      "Birth_Month                              float64\n",
      "Birth_Day                                float64\n",
      "Birth_Year                               object\n",
      "Birth_City                               object\n",
      "Birth_State                              object\n",
      "Death_Month                              float64\n",
      "Death_Day                                float64\n",
      "Death_Year                               float64\n",
      "Death_City                               object\n",
      "Death_State                              object\n",
      "Gender                                   object\n",
      "Race_or_Ethnicity                        object\n",
      "Court_Type_1                             object\n",
      "Court_Name_1                             object\n",
      "Appointment_Title_1                      object\n",
      "Appointing_President_1                   object\n",
      "Party_of_Appointing_President_1          object\n",
      "Reappointing_President_1                 object\n",
      "Party_of_Reappointing_President_1        object\n",
      "ABA_Rating_1                             object\n",
      "Seat_ID_1                                object\n",
      "Statute_Authorizing_New_Seat_1           object\n",
      "Recess_Appointment_Date_1                object\n",
      "Nomination_Date_1                        object\n",
      "Committee_Referral_Date_1                object\n",
      "Hearing_Date_1                           object\n",
      "Judiciary_Committee_Action_1             object\n",
      "Committee_Action_Date_1                  object\n",
      "Senate_Vote_Type_1                       object\n",
      "Ayes-Nays_1                              object\n",
      "Confirmation_Date_1                      object\n",
      "Commission_Date_1                        object\n",
      "Service_as_Chief_Judge_Begin_1           float64\n",
      "Service_as_Chief_Judge_End_1             float64\n",
      "2nd_Service_as_Chief_Judge_Begin_1       float64\n",
      "2nd_Service_as_Chief_Judge_End_1         float64\n",
      "Senior_Status_Date_1                     object\n",
      "Termination_1                            object\n",
      "Termination_Date_1                       object\n",
      "Court_Type_2                             object\n",
      "Court_Name_2                             object\n",
      "Appointment_Title_2                      object\n",
      "Appointing_President_2                   object\n",
      "Party_of_Appointing_President_2          object\n",
      "Reappointing_President_2                 float64\n",
      "Party_of_Reappointing_President_2        float64\n",
      "ABA_Rating_2                             object\n",
      "Seat_ID_2                                object\n",
      "Statute_Authorizing_New_Seat_2           object\n",
      "Recess_Appointment_Date_2                object\n",
      "Nomination_Date_2                        object\n",
      "Committee_Referral_Date_2                object\n",
      "Hearing_Date_2                           object\n",
      "Judiciary_Committee_Action_2             object\n",
      "Committee_Action_Date_2                  object\n",
      "Senate_Vote_Type_2                       object\n",
      "Ayes-Nays_2                              object\n",
      "Confirmation_Date_2                      object\n",
      "Commission_Date_2                        object\n",
      "Service_as_Chief_Judge_Begin_2           float64\n",
      "Service_as_Chief_Judge_End_2             float64\n",
      "2nd_Service_as_Chief_Judge_Begin_2       float64\n",
      "2nd_Service_as_Chief_Judge_End_2         float64\n",
      "Senior_Status_Date_2                     object\n",
      "Termination_2                            object\n",
      "Termination_Date_2                       object\n",
      "Court_Type_3                             object\n",
      "Court_Name_3                             object\n",
      "Appointment_Title_3                      object\n",
      "Appointing_President_3                   object\n",
      "Party_of_Appointing_President_3          object\n",
      "Reappointing_President_3                 float64\n",
      "Party_of_Reappointing_President_3        float64\n",
      "ABA_Rating_3                             object\n",
      "Seat_ID_3                                object\n",
      "Statute_Authorizing_New_Seat_3           object\n",
      "Recess_Appointment_Date_3                object\n",
      "Nomination_Date_3                        object\n",
      "Committee_Referral_Date_3                object\n",
      "Hearing_Date_3                           object\n",
      "Judiciary_Committee_Action_3             object\n",
      "Committee_Action_Date_3                  object\n",
      "Senate_Vote_Type_3                       object\n",
      "Ayes-Nays_3                              object\n",
      "Confirmation_Date_3                      object\n",
      "Commission_Date_3                        object\n",
      "Service_as_Chief_Judge_Begin_3           float64\n",
      "Service_as_Chief_Judge_End_3             float64\n",
      "2nd_Service_as_Chief_Judge_Begin_3       float64\n",
      "2nd_Service_as_Chief_Judge_End_3         float64\n",
      "Senior_Status_Date_3                     object\n",
      "Termination_3                            object\n",
      "Termination_Date_3                       object\n",
      "Court_Type_4                             object\n",
      "Court_Name_4                             object\n",
      "Appointment_Title_4                      object\n",
      "Appointing_President_4                   object\n",
      "Party_of_Appointing_President_4          object\n",
      "Reappointing_President_4                 float64\n",
      "Party_of_Reappointing_President_4        float64\n",
      "ABA_Rating_4                             object\n",
      "Seat_ID_4                                object\n",
      "Statute_Authorizing_New_Seat_4           object\n",
      "Recess_Appointment_Date_4                object\n",
      "Nomination_Date_4                        object\n",
      "Committee_Referral_Date_4                object\n",
      "Hearing_Date_4                           object\n",
      "Judiciary_Committee_Action_4             object\n",
      "Committee_Action_Date_4                  object\n",
      "Senate_Vote_Type_4                       object\n",
      "Ayes-Nays_4                              object\n",
      "Confirmation_Date_4                      object\n",
      "Commission_Date_4                        object\n",
      "Service_as_Chief_Judge_Begin_4           float64\n",
      "Service_as_Chief_Judge_End_4             float64\n",
      "2nd_Service_as_Chief_Judge_Begin_4       float64\n",
      "2nd_Service_as_Chief_Judge_End_4         float64\n",
      "Senior_Status_Date_4                     object\n",
      "Termination_4                            object\n",
      "Termination_Date_4                       object\n",
      "Court_Type_5                             object\n",
      "Court_Name_5                             object\n",
      "Appointment_Title_5                      object\n",
      "Appointing_President_5                   object\n",
      "Party_of_Appointing_President_5          object\n",
      "Reappointing_President_5                 float64\n",
      "Party_of_Reappointing_President_5        float64\n",
      "ABA_Rating_5                             float64\n",
      "Seat_ID_5                                object\n",
      "Statute_Authorizing_New_Seat_5           object\n",
      "Recess_Appointment_Date_5                object\n",
      "Nomination_Date_5                        object\n",
      "Committee_Referral_Date_5                object\n",
      "Hearing_Date_5                           object\n",
      "Judiciary_Committee_Action_5             object\n",
      "Committee_Action_Date_5                  object\n",
      "Senate_Vote_Type_5                       object\n",
      "Ayes-Nays_5                              object\n",
      "Confirmation_Date_5                      object\n",
      "Commission_Date_5                        object\n",
      "Service_as_Chief_Judge_Begin_5           float64\n",
      "Service_as_Chief_Judge_End_5             float64\n",
      "2nd_Service_as_Chief_Judge_Begin_5       float64\n",
      "2nd_Service_as_Chief_Judge_End_5         float64\n",
      "Senior_Status_Date_5                     object\n",
      "Termination_5                            object\n",
      "Termination_Date_5                       object\n",
      "Court_Type_6                             object\n",
      "Court_Name_6                             object\n",
      "Appointment_Title_6                      object\n",
      "Appointing_President_6                   object\n",
      "Party_of_Appointing_President_6          object\n",
      "Reappointing_President_6                 float64\n",
      "Party_of_Reappointing_President_6        float64\n",
      "ABA_Rating_6                             float64\n",
      "Seat_ID_6                                object\n",
      "Statute_Authorizing_New_Seat_6           object\n",
      "Recess_Appointment_Date_6                object\n",
      "Nomination_Date_6                        object\n",
      "Committee_Referral_Date_6                object\n",
      "Hearing_Date_6                           object\n",
      "Judiciary_Committee_Action_6             object\n",
      "Committee_Action_Date_6                  object\n",
      "Senate_Vote_Type_6                       object\n",
      "Ayes-Nays_6                              object\n",
      "Confirmation_Date_6                      object\n",
      "Commission_Date_6                        object\n",
      "Service_as_Chief_Judge_Begin_6           float64\n",
      "Service_as_Chief_Judge_End_6             float64\n",
      "2nd_Service_as_Chief_Judge_Begin_6       float64\n",
      "2nd_Service_as_Chief_Judge_End_6         float64\n",
      "Senior_Status_Date_6                     object\n",
      "Termination_6                            object\n",
      "Termination_Date_6                       object\n",
      "Other_Federal_Judicial_Service_1         object\n",
      "Other_Federal_Judicial_Service_2         object\n",
      "Other_Federal_Judicial_Service_3         object\n",
      "Other_Federal_Judicial_Service_4         object\n",
      "School_1                                 object\n",
      "Degree_1                                 object\n",
      "Degree_Year_1                            object\n",
      "School_2                                 object\n",
      "Degree_2                                 object\n",
      "Degree_Year_2                            object\n",
      "School_3                                 object\n",
      "Degree_3                                 object\n",
      "Degree_Year_3                            object\n",
      "School_4                                 object\n",
      "Degree_4                                 object\n",
      "Degree_Year_4                            float64\n",
      "School_5                                 object\n",
      "Degree_5                                 object\n",
      "Degree_Year_5                            float64\n",
      "Professional_Career                      object\n",
      "Other_Nominations-Recess_Appointments    object\n",
      "dtypes: float64(43), int64(2), object(156)\n",
      "memory usage: 3.5+ MB\n"
     ]
    }
   ],
   "source": [
    "# df.dtypes\n",
    "df.info(verbose=True)"
   ]
  },
  {
   "cell_type": "code",
   "execution_count": null,
   "metadata": {},
   "outputs": [],
   "source": [
    "# df = df.drop(columns='url')"
   ]
  },
  {
   "cell_type": "code",
   "execution_count": null,
   "metadata": {},
   "outputs": [],
   "source": [
    "# df.profile_report()"
   ]
  },
  {
   "cell_type": "code",
   "execution_count": null,
   "metadata": {},
   "outputs": [],
   "source": [
    "df.Appointing_President_1.value_counts().head()"
   ]
  },
  {
   "cell_type": "code",
   "execution_count": null,
   "metadata": {},
   "outputs": [],
   "source": [
    "df.ABA_Rating_1.value_counts()"
   ]
  },
  {
   "cell_type": "code",
   "execution_count": null,
   "metadata": {},
   "outputs": [],
   "source": [
    "df[df.ABA_Rating_1.str.contains(\"Not\", na=False)]['Appointing_President_1'].value_counts()"
   ]
  },
  {
   "cell_type": "code",
   "execution_count": null,
   "metadata": {},
   "outputs": [],
   "source": [
    "df[df.ABA_Rating_1.str.contains(\"Not\", na=False)]"
   ]
  },
  {
   "cell_type": "code",
   "execution_count": null,
   "metadata": {},
   "outputs": [],
   "source": [
    "df[df.ABA_Rating_1.str.contains(\"Not\", na=False)][['Last_Name','ABA_Rating_1','Appointing_President_1','Confirmation_Date_1']].sort_values(by='Confirmation_Date_1', ascending=False)"
   ]
  },
  {
   "cell_type": "code",
   "execution_count": null,
   "metadata": {},
   "outputs": [],
   "source": [
    "df[df.ABA_Rating_2.str.contains(\"Not\", na=False)][['Last_Name','ABA_Rating_2','Appointing_President_2','Confirmation_Date_2']].sort_values(by='Confirmation_Date_2', ascending=False)"
   ]
  },
  {
   "cell_type": "code",
   "execution_count": null,
   "metadata": {},
   "outputs": [],
   "source": [
    "df[df.ABA_Rating_3.str.contains(\"Not\", na=False)][['Last_Name','ABA_Rating_3','Appointing_President_3','Confirmation_Date_3']].sort_values(by='Confirmation_Date_3', ascending=False)"
   ]
  },
  {
   "cell_type": "code",
   "execution_count": null,
   "metadata": {},
   "outputs": [],
   "source": [
    "df.Judiciary_Committee_Action_1.value_counts()"
   ]
  },
  {
   "cell_type": "code",
   "execution_count": null,
   "metadata": {},
   "outputs": [],
   "source": [
    "df[~df.Judiciary_Committee_Action_1.str.contains(\"favorably\", na=False)][['Last_Name','Judiciary_Committee_Action_1','Appointing_President_1','Confirmation_Date_1']].sort_values(by='Confirmation_Date_1', ascending=False)"
   ]
  },
  {
   "cell_type": "code",
   "execution_count": null,
   "metadata": {},
   "outputs": [],
   "source": [
    "df.Termination_1.value_counts()"
   ]
  },
  {
   "cell_type": "code",
   "execution_count": null,
   "metadata": {},
   "outputs": [],
   "source": [
    "df[df.Termination_1.str.contains(\"Impeachment\", na=False)][['First_Name','Last_Name','Termination_1','Appointing_President_1','Confirmation_Date_1']].sort_values(by='Confirmation_Date_1', ascending=False)"
   ]
  },
  {
   "cell_type": "code",
   "execution_count": null,
   "metadata": {},
   "outputs": [],
   "source": [
    "df[df.Termination_1.str.contains(\"Recess\", na=False)][['Last_Name','Termination_1','Appointing_President_1','Recess_Appointment_Date_1']].sort_values(by='Recess_Appointment_Date_1', ascending=False)"
   ]
  },
  {
   "cell_type": "code",
   "execution_count": null,
   "metadata": {},
   "outputs": [],
   "source": [
    "df.apply(lambda 7: x.str.contains(r\"declined\").any()).idxmax()"
   ]
  },
  {
   "cell_type": "code",
   "execution_count": null,
   "metadata": {},
   "outputs": [],
   "source": [
    "df[df['Other_Nominations-Recess_Appointments'].str.contains(\"declined\", na=False)][['Last_Name','Other_Nominations-Recess_Appointments','Appointing_President_1','Confirmation_Date_1']].sort_values(by='Confirmation_Date_1', ascending=False)"
   ]
  },
  {
   "cell_type": "code",
   "execution_count": null,
   "metadata": {},
   "outputs": [],
   "source": [
    "df.groupby(by='Party_of_Appointing_President_1').Gender.value_counts(1)"
   ]
  },
  {
   "cell_type": "code",
   "execution_count": null,
   "metadata": {},
   "outputs": [],
   "source": [
    "df.groupby(by='Party_of_Appointing_President_1').Race_or_Ethnicity.value_counts(1)"
   ]
  },
  {
   "cell_type": "code",
   "execution_count": null,
   "metadata": {},
   "outputs": [],
   "source": [
    "df.Professional_Career"
   ]
  },
  {
   "cell_type": "code",
   "execution_count": null,
   "metadata": {},
   "outputs": [],
   "source": [
    "df.Professional_Career = df.Professional_Career.astype(str)\n",
    "Counter(\" \".join(df.Professional_Career).lower().split()).most_common(100)\n",
    "# pd.Series(' '.join(df.Professional_Career).lower().split()).value_counts().head(100)"
   ]
  },
  {
   "cell_type": "code",
   "execution_count": null,
   "metadata": {},
   "outputs": [],
   "source": [
    "df.Degree_1.value_counts()"
   ]
  },
  {
   "cell_type": "code",
   "execution_count": null,
   "metadata": {},
   "outputs": [],
   "source": [
    "df.Degree_1.value_counts()"
   ]
  },
  {
   "cell_type": "code",
   "execution_count": null,
   "metadata": {},
   "outputs": [],
   "source": [
    "df.School_1 = df.School_1.astype(str)\n",
    "Counter(\" \".join(df.School_1).lower().split()).most_common(100)"
   ]
  },
  {
   "cell_type": "code",
   "execution_count": null,
   "metadata": {},
   "outputs": [],
   "source": [
    "df.School_1 = df.School_1.astype(str)\n",
    "df.School_2 = df.School_2.astype(str)\n",
    "df.School_3 = df.School_3.astype(str)\n",
    "# pd.Series(' '.join(df.School_1 & df.School_2 & df.School_3).lower().split()).value_counts().head(100)"
   ]
  },
  {
   "cell_type": "code",
   "execution_count": null,
   "metadata": {},
   "outputs": [],
   "source": [
    "df.groupby(by='Party_of_Appointing_President_1').School_2.value_counts(1)"
   ]
  },
  {
   "cell_type": "code",
   "execution_count": null,
   "metadata": {},
   "outputs": [],
   "source": [
    "df[df['School_1'] == 'Read law'].Degree_Year_1.max()"
   ]
  },
  {
   "cell_type": "code",
   "execution_count": null,
   "metadata": {},
   "outputs": [],
   "source": [
    "df[df['School_2'] == 'Read law'].Degree_Year_2.max()"
   ]
  },
  {
   "cell_type": "code",
   "execution_count": null,
   "metadata": {},
   "outputs": [],
   "source": [
    "df.Nomination_Date_1 - df.Confirmation_Date_1"
   ]
  },
  {
   "cell_type": "code",
   "execution_count": null,
   "metadata": {},
   "outputs": [],
   "source": []
  },
  {
   "cell_type": "code",
   "execution_count": null,
   "metadata": {},
   "outputs": [],
   "source": []
  },
  {
   "cell_type": "code",
   "execution_count": null,
   "metadata": {},
   "outputs": [],
   "source": []
  },
  {
   "cell_type": "code",
   "execution_count": null,
   "metadata": {},
   "outputs": [],
   "source": []
  },
  {
   "cell_type": "code",
   "execution_count": null,
   "metadata": {},
   "outputs": [],
   "source": []
  },
  {
   "cell_type": "code",
   "execution_count": null,
   "metadata": {},
   "outputs": [],
   "source": []
  },
  {
   "cell_type": "code",
   "execution_count": null,
   "metadata": {},
   "outputs": [],
   "source": []
  },
  {
   "cell_type": "code",
   "execution_count": null,
   "metadata": {},
   "outputs": [],
   "source": []
  }
 ],
 "metadata": {
  "kernelspec": {
   "display_name": "Python 3",
   "language": "python",
   "name": "python3"
  },
  "language_info": {
   "codemirror_mode": {
    "name": "ipython",
    "version": 3
   },
   "file_extension": ".py",
   "mimetype": "text/x-python",
   "name": "python",
   "nbconvert_exporter": "python",
   "pygments_lexer": "ipython3",
   "version": "3.7.3"
  }
 },
 "nbformat": 4,
 "nbformat_minor": 2
}
